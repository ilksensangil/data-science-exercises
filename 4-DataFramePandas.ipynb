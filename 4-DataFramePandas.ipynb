{
 "cells": [
  {
   "cell_type": "code",
   "execution_count": 2,
   "metadata": {},
   "outputs": [],
   "source": [
    "import pandas as pd"
   ]
  },
  {
   "cell_type": "code",
   "execution_count": 46,
   "metadata": {},
   "outputs": [],
   "source": [
    "import numpy as np"
   ]
  },
  {
   "cell_type": "code",
   "execution_count": 4,
   "metadata": {},
   "outputs": [],
   "source": [
    "data=np.random.randn(4,3) # 4' e 3'lük random matris oluşturduk."
   ]
  },
  {
   "cell_type": "code",
   "execution_count": 5,
   "metadata": {},
   "outputs": [
    {
     "data": {
      "text/plain": [
       "array([[ 0.62337798, -0.54211581,  1.48493042],\n",
       "       [-0.92006604, -0.3865856 , -1.96819094],\n",
       "       [-0.07651446,  0.78425347,  0.2233025 ],\n",
       "       [ 0.50477648,  1.74117014,  0.19701795]])"
      ]
     },
     "execution_count": 5,
     "metadata": {},
     "output_type": "execute_result"
    }
   ],
   "source": [
    "data"
   ]
  },
  {
   "cell_type": "code",
   "execution_count": 6,
   "metadata": {},
   "outputs": [],
   "source": [
    "dataFrame=pd.DataFrame(data)"
   ]
  },
  {
   "cell_type": "code",
   "execution_count": 7,
   "metadata": {},
   "outputs": [
    {
     "data": {
      "text/html": [
       "<div>\n",
       "<style scoped>\n",
       "    .dataframe tbody tr th:only-of-type {\n",
       "        vertical-align: middle;\n",
       "    }\n",
       "\n",
       "    .dataframe tbody tr th {\n",
       "        vertical-align: top;\n",
       "    }\n",
       "\n",
       "    .dataframe thead th {\n",
       "        text-align: right;\n",
       "    }\n",
       "</style>\n",
       "<table border=\"1\" class=\"dataframe\">\n",
       "  <thead>\n",
       "    <tr style=\"text-align: right;\">\n",
       "      <th></th>\n",
       "      <th>0</th>\n",
       "      <th>1</th>\n",
       "      <th>2</th>\n",
       "    </tr>\n",
       "  </thead>\n",
       "  <tbody>\n",
       "    <tr>\n",
       "      <th>0</th>\n",
       "      <td>0.623378</td>\n",
       "      <td>-0.542116</td>\n",
       "      <td>1.484930</td>\n",
       "    </tr>\n",
       "    <tr>\n",
       "      <th>1</th>\n",
       "      <td>-0.920066</td>\n",
       "      <td>-0.386586</td>\n",
       "      <td>-1.968191</td>\n",
       "    </tr>\n",
       "    <tr>\n",
       "      <th>2</th>\n",
       "      <td>-0.076514</td>\n",
       "      <td>0.784253</td>\n",
       "      <td>0.223302</td>\n",
       "    </tr>\n",
       "    <tr>\n",
       "      <th>3</th>\n",
       "      <td>0.504776</td>\n",
       "      <td>1.741170</td>\n",
       "      <td>0.197018</td>\n",
       "    </tr>\n",
       "  </tbody>\n",
       "</table>\n",
       "</div>"
      ],
      "text/plain": [
       "          0         1         2\n",
       "0  0.623378 -0.542116  1.484930\n",
       "1 -0.920066 -0.386586 -1.968191\n",
       "2 -0.076514  0.784253  0.223302\n",
       "3  0.504776  1.741170  0.197018"
      ]
     },
     "execution_count": 7,
     "metadata": {},
     "output_type": "execute_result"
    }
   ],
   "source": [
    "dataFrame       # satır ve sütun şeklinde dataframe çeviridik."
   ]
  },
  {
   "cell_type": "code",
   "execution_count": 8,
   "metadata": {},
   "outputs": [],
   "source": [
    "yeniFrame=pd.DataFrame(data,index=[\"atlas\",\"atil\",\"zeynep\",\"mehmet\"],columns=[\"yas\",\"maas\",\"çalışmaSaati\"])"
   ]
  },
  {
   "cell_type": "code",
   "execution_count": 9,
   "metadata": {},
   "outputs": [
    {
     "data": {
      "text/html": [
       "<div>\n",
       "<style scoped>\n",
       "    .dataframe tbody tr th:only-of-type {\n",
       "        vertical-align: middle;\n",
       "    }\n",
       "\n",
       "    .dataframe tbody tr th {\n",
       "        vertical-align: top;\n",
       "    }\n",
       "\n",
       "    .dataframe thead th {\n",
       "        text-align: right;\n",
       "    }\n",
       "</style>\n",
       "<table border=\"1\" class=\"dataframe\">\n",
       "  <thead>\n",
       "    <tr style=\"text-align: right;\">\n",
       "      <th></th>\n",
       "      <th>yas</th>\n",
       "      <th>maas</th>\n",
       "      <th>çalışmaSaati</th>\n",
       "    </tr>\n",
       "  </thead>\n",
       "  <tbody>\n",
       "    <tr>\n",
       "      <th>atlas</th>\n",
       "      <td>0.623378</td>\n",
       "      <td>-0.542116</td>\n",
       "      <td>1.484930</td>\n",
       "    </tr>\n",
       "    <tr>\n",
       "      <th>atil</th>\n",
       "      <td>-0.920066</td>\n",
       "      <td>-0.386586</td>\n",
       "      <td>-1.968191</td>\n",
       "    </tr>\n",
       "    <tr>\n",
       "      <th>zeynep</th>\n",
       "      <td>-0.076514</td>\n",
       "      <td>0.784253</td>\n",
       "      <td>0.223302</td>\n",
       "    </tr>\n",
       "    <tr>\n",
       "      <th>mehmet</th>\n",
       "      <td>0.504776</td>\n",
       "      <td>1.741170</td>\n",
       "      <td>0.197018</td>\n",
       "    </tr>\n",
       "  </tbody>\n",
       "</table>\n",
       "</div>"
      ],
      "text/plain": [
       "             yas      maas  çalışmaSaati\n",
       "atlas   0.623378 -0.542116      1.484930\n",
       "atil   -0.920066 -0.386586     -1.968191\n",
       "zeynep -0.076514  0.784253      0.223302\n",
       "mehmet  0.504776  1.741170      0.197018"
      ]
     },
     "execution_count": 9,
     "metadata": {},
     "output_type": "execute_result"
    }
   ],
   "source": [
    "yeniFrame       # satırlara ve sütunlara gelecek etiketleri yazıp çağırdık."
   ]
  },
  {
   "cell_type": "code",
   "execution_count": 10,
   "metadata": {},
   "outputs": [
    {
     "data": {
      "text/plain": [
       "atlas     0.623378\n",
       "atil     -0.920066\n",
       "zeynep   -0.076514\n",
       "mehmet    0.504776\n",
       "Name: yas, dtype: float64"
      ]
     },
     "execution_count": 10,
     "metadata": {},
     "output_type": "execute_result"
    }
   ],
   "source": [
    "yeniFrame[\"yas\"]  # yas kolonunu çağırdık."
   ]
  },
  {
   "cell_type": "code",
   "execution_count": 11,
   "metadata": {},
   "outputs": [
    {
     "data": {
      "text/html": [
       "<div>\n",
       "<style scoped>\n",
       "    .dataframe tbody tr th:only-of-type {\n",
       "        vertical-align: middle;\n",
       "    }\n",
       "\n",
       "    .dataframe tbody tr th {\n",
       "        vertical-align: top;\n",
       "    }\n",
       "\n",
       "    .dataframe thead th {\n",
       "        text-align: right;\n",
       "    }\n",
       "</style>\n",
       "<table border=\"1\" class=\"dataframe\">\n",
       "  <thead>\n",
       "    <tr style=\"text-align: right;\">\n",
       "      <th></th>\n",
       "      <th>maas</th>\n",
       "      <th>yas</th>\n",
       "    </tr>\n",
       "  </thead>\n",
       "  <tbody>\n",
       "    <tr>\n",
       "      <th>atlas</th>\n",
       "      <td>-0.542116</td>\n",
       "      <td>0.623378</td>\n",
       "    </tr>\n",
       "    <tr>\n",
       "      <th>atil</th>\n",
       "      <td>-0.386586</td>\n",
       "      <td>-0.920066</td>\n",
       "    </tr>\n",
       "    <tr>\n",
       "      <th>zeynep</th>\n",
       "      <td>0.784253</td>\n",
       "      <td>-0.076514</td>\n",
       "    </tr>\n",
       "    <tr>\n",
       "      <th>mehmet</th>\n",
       "      <td>1.741170</td>\n",
       "      <td>0.504776</td>\n",
       "    </tr>\n",
       "  </tbody>\n",
       "</table>\n",
       "</div>"
      ],
      "text/plain": [
       "            maas       yas\n",
       "atlas  -0.542116  0.623378\n",
       "atil   -0.386586 -0.920066\n",
       "zeynep  0.784253 -0.076514\n",
       "mehmet  1.741170  0.504776"
      ]
     },
     "execution_count": 11,
     "metadata": {},
     "output_type": "execute_result"
    }
   ],
   "source": [
    "yeniFrame[[\"maas\",\"yas\"]] # iki dizi açıp sadece yas ve maas kolonunu istedik."
   ]
  },
  {
   "cell_type": "code",
   "execution_count": 12,
   "metadata": {},
   "outputs": [
    {
     "data": {
      "text/plain": [
       "yas            -0.920066\n",
       "maas           -0.386586\n",
       "çalışmaSaati   -1.968191\n",
       "Name: atil, dtype: float64"
      ]
     },
     "execution_count": 12,
     "metadata": {},
     "output_type": "execute_result"
    }
   ],
   "source": [
    "yeniFrame.loc[\"atil\"] # satır seçmek istersek böyle yazacağız.Atilin bilgilerini istedik."
   ]
  },
  {
   "cell_type": "code",
   "execution_count": 13,
   "metadata": {},
   "outputs": [
    {
     "data": {
      "text/plain": [
       "yas             0.623378\n",
       "maas           -0.542116\n",
       "çalışmaSaati    1.484930\n",
       "Name: atlas, dtype: float64"
      ]
     },
     "execution_count": 13,
     "metadata": {},
     "output_type": "execute_result"
    }
   ],
   "source": [
    "yeniFrame.loc[\"atlas\"]"
   ]
  },
  {
   "cell_type": "code",
   "execution_count": 14,
   "metadata": {},
   "outputs": [
    {
     "data": {
      "text/plain": [
       "yas            -0.920066\n",
       "maas           -0.386586\n",
       "çalışmaSaati   -1.968191\n",
       "Name: atil, dtype: float64"
      ]
     },
     "execution_count": 14,
     "metadata": {},
     "output_type": "execute_result"
    }
   ],
   "source": [
    "yeniFrame.iloc[1] # 1. satırdaki kişinin bilgilerini getiricek"
   ]
  },
  {
   "cell_type": "code",
   "execution_count": 15,
   "metadata": {},
   "outputs": [
    {
     "data": {
      "text/html": [
       "<div>\n",
       "<style scoped>\n",
       "    .dataframe tbody tr th:only-of-type {\n",
       "        vertical-align: middle;\n",
       "    }\n",
       "\n",
       "    .dataframe tbody tr th {\n",
       "        vertical-align: top;\n",
       "    }\n",
       "\n",
       "    .dataframe thead th {\n",
       "        text-align: right;\n",
       "    }\n",
       "</style>\n",
       "<table border=\"1\" class=\"dataframe\">\n",
       "  <thead>\n",
       "    <tr style=\"text-align: right;\">\n",
       "      <th></th>\n",
       "      <th>yas</th>\n",
       "      <th>maas</th>\n",
       "      <th>çalışmaSaati</th>\n",
       "    </tr>\n",
       "  </thead>\n",
       "  <tbody>\n",
       "    <tr>\n",
       "      <th>atlas</th>\n",
       "      <td>0.623378</td>\n",
       "      <td>-0.542116</td>\n",
       "      <td>1.484930</td>\n",
       "    </tr>\n",
       "    <tr>\n",
       "      <th>atil</th>\n",
       "      <td>-0.920066</td>\n",
       "      <td>-0.386586</td>\n",
       "      <td>-1.968191</td>\n",
       "    </tr>\n",
       "    <tr>\n",
       "      <th>zeynep</th>\n",
       "      <td>-0.076514</td>\n",
       "      <td>0.784253</td>\n",
       "      <td>0.223302</td>\n",
       "    </tr>\n",
       "    <tr>\n",
       "      <th>mehmet</th>\n",
       "      <td>0.504776</td>\n",
       "      <td>1.741170</td>\n",
       "      <td>0.197018</td>\n",
       "    </tr>\n",
       "  </tbody>\n",
       "</table>\n",
       "</div>"
      ],
      "text/plain": [
       "             yas      maas  çalışmaSaati\n",
       "atlas   0.623378 -0.542116      1.484930\n",
       "atil   -0.920066 -0.386586     -1.968191\n",
       "zeynep -0.076514  0.784253      0.223302\n",
       "mehmet  0.504776  1.741170      0.197018"
      ]
     },
     "execution_count": 15,
     "metadata": {},
     "output_type": "execute_result"
    }
   ],
   "source": [
    "yeniFrame"
   ]
  },
  {
   "cell_type": "code",
   "execution_count": 16,
   "metadata": {},
   "outputs": [],
   "source": [
    "yeniFrame[\"emeklilik yaşı\"]=yeniFrame[\"yas\"]+yeniFrame[\"yas\"] \n",
    "# yeni kolon ekledik.yaşı iki kez toplayınca emeklilik yaşını verdi."
   ]
  },
  {
   "cell_type": "code",
   "execution_count": 17,
   "metadata": {},
   "outputs": [
    {
     "data": {
      "text/html": [
       "<div>\n",
       "<style scoped>\n",
       "    .dataframe tbody tr th:only-of-type {\n",
       "        vertical-align: middle;\n",
       "    }\n",
       "\n",
       "    .dataframe tbody tr th {\n",
       "        vertical-align: top;\n",
       "    }\n",
       "\n",
       "    .dataframe thead th {\n",
       "        text-align: right;\n",
       "    }\n",
       "</style>\n",
       "<table border=\"1\" class=\"dataframe\">\n",
       "  <thead>\n",
       "    <tr style=\"text-align: right;\">\n",
       "      <th></th>\n",
       "      <th>yas</th>\n",
       "      <th>maas</th>\n",
       "      <th>çalışmaSaati</th>\n",
       "      <th>emeklilik yaşı</th>\n",
       "    </tr>\n",
       "  </thead>\n",
       "  <tbody>\n",
       "    <tr>\n",
       "      <th>atlas</th>\n",
       "      <td>0.623378</td>\n",
       "      <td>-0.542116</td>\n",
       "      <td>1.484930</td>\n",
       "      <td>1.246756</td>\n",
       "    </tr>\n",
       "    <tr>\n",
       "      <th>atil</th>\n",
       "      <td>-0.920066</td>\n",
       "      <td>-0.386586</td>\n",
       "      <td>-1.968191</td>\n",
       "      <td>-1.840132</td>\n",
       "    </tr>\n",
       "    <tr>\n",
       "      <th>zeynep</th>\n",
       "      <td>-0.076514</td>\n",
       "      <td>0.784253</td>\n",
       "      <td>0.223302</td>\n",
       "      <td>-0.153029</td>\n",
       "    </tr>\n",
       "    <tr>\n",
       "      <th>mehmet</th>\n",
       "      <td>0.504776</td>\n",
       "      <td>1.741170</td>\n",
       "      <td>0.197018</td>\n",
       "      <td>1.009553</td>\n",
       "    </tr>\n",
       "  </tbody>\n",
       "</table>\n",
       "</div>"
      ],
      "text/plain": [
       "             yas      maas  çalışmaSaati  emeklilik yaşı\n",
       "atlas   0.623378 -0.542116      1.484930        1.246756\n",
       "atil   -0.920066 -0.386586     -1.968191       -1.840132\n",
       "zeynep -0.076514  0.784253      0.223302       -0.153029\n",
       "mehmet  0.504776  1.741170      0.197018        1.009553"
      ]
     },
     "execution_count": 17,
     "metadata": {},
     "output_type": "execute_result"
    }
   ],
   "source": [
    "yeniFrame"
   ]
  },
  {
   "cell_type": "code",
   "execution_count": 18,
   "metadata": {},
   "outputs": [
    {
     "data": {
      "text/html": [
       "<div>\n",
       "<style scoped>\n",
       "    .dataframe tbody tr th:only-of-type {\n",
       "        vertical-align: middle;\n",
       "    }\n",
       "\n",
       "    .dataframe tbody tr th {\n",
       "        vertical-align: top;\n",
       "    }\n",
       "\n",
       "    .dataframe thead th {\n",
       "        text-align: right;\n",
       "    }\n",
       "</style>\n",
       "<table border=\"1\" class=\"dataframe\">\n",
       "  <thead>\n",
       "    <tr style=\"text-align: right;\">\n",
       "      <th></th>\n",
       "      <th>yas</th>\n",
       "      <th>maas</th>\n",
       "      <th>çalışmaSaati</th>\n",
       "    </tr>\n",
       "  </thead>\n",
       "  <tbody>\n",
       "    <tr>\n",
       "      <th>atlas</th>\n",
       "      <td>0.623378</td>\n",
       "      <td>-0.542116</td>\n",
       "      <td>1.484930</td>\n",
       "    </tr>\n",
       "    <tr>\n",
       "      <th>atil</th>\n",
       "      <td>-0.920066</td>\n",
       "      <td>-0.386586</td>\n",
       "      <td>-1.968191</td>\n",
       "    </tr>\n",
       "    <tr>\n",
       "      <th>zeynep</th>\n",
       "      <td>-0.076514</td>\n",
       "      <td>0.784253</td>\n",
       "      <td>0.223302</td>\n",
       "    </tr>\n",
       "    <tr>\n",
       "      <th>mehmet</th>\n",
       "      <td>0.504776</td>\n",
       "      <td>1.741170</td>\n",
       "      <td>0.197018</td>\n",
       "    </tr>\n",
       "  </tbody>\n",
       "</table>\n",
       "</div>"
      ],
      "text/plain": [
       "             yas      maas  çalışmaSaati\n",
       "atlas   0.623378 -0.542116      1.484930\n",
       "atil   -0.920066 -0.386586     -1.968191\n",
       "zeynep -0.076514  0.784253      0.223302\n",
       "mehmet  0.504776  1.741170      0.197018"
      ]
     },
     "execution_count": 18,
     "metadata": {},
     "output_type": "execute_result"
    }
   ],
   "source": [
    "yeniFrame.drop(\"emeklilik yaşı\",axis=1) # emeklilik kolonunu sildik.emeklilik kolonunu sütunda arayabilmesi için axis=1 yazdık."
   ]
  },
  {
   "cell_type": "code",
   "execution_count": 19,
   "metadata": {},
   "outputs": [
    {
     "data": {
      "text/html": [
       "<div>\n",
       "<style scoped>\n",
       "    .dataframe tbody tr th:only-of-type {\n",
       "        vertical-align: middle;\n",
       "    }\n",
       "\n",
       "    .dataframe tbody tr th {\n",
       "        vertical-align: top;\n",
       "    }\n",
       "\n",
       "    .dataframe thead th {\n",
       "        text-align: right;\n",
       "    }\n",
       "</style>\n",
       "<table border=\"1\" class=\"dataframe\">\n",
       "  <thead>\n",
       "    <tr style=\"text-align: right;\">\n",
       "      <th></th>\n",
       "      <th>yas</th>\n",
       "      <th>maas</th>\n",
       "      <th>çalışmaSaati</th>\n",
       "      <th>emeklilik yaşı</th>\n",
       "    </tr>\n",
       "  </thead>\n",
       "  <tbody>\n",
       "    <tr>\n",
       "      <th>atlas</th>\n",
       "      <td>0.623378</td>\n",
       "      <td>-0.542116</td>\n",
       "      <td>1.484930</td>\n",
       "      <td>1.246756</td>\n",
       "    </tr>\n",
       "    <tr>\n",
       "      <th>atil</th>\n",
       "      <td>-0.920066</td>\n",
       "      <td>-0.386586</td>\n",
       "      <td>-1.968191</td>\n",
       "      <td>-1.840132</td>\n",
       "    </tr>\n",
       "    <tr>\n",
       "      <th>zeynep</th>\n",
       "      <td>-0.076514</td>\n",
       "      <td>0.784253</td>\n",
       "      <td>0.223302</td>\n",
       "      <td>-0.153029</td>\n",
       "    </tr>\n",
       "  </tbody>\n",
       "</table>\n",
       "</div>"
      ],
      "text/plain": [
       "             yas      maas  çalışmaSaati  emeklilik yaşı\n",
       "atlas   0.623378 -0.542116      1.484930        1.246756\n",
       "atil   -0.920066 -0.386586     -1.968191       -1.840132\n",
       "zeynep -0.076514  0.784253      0.223302       -0.153029"
      ]
     },
     "execution_count": 19,
     "metadata": {},
     "output_type": "execute_result"
    }
   ],
   "source": [
    "yeniFrame.drop(\"mehmet\") # mehmeti sildik. satır olduğu için axis=0 yazmamız gerekiyordu fakat satır için yazmasak da siler"
   ]
  },
  {
   "cell_type": "code",
   "execution_count": 20,
   "metadata": {},
   "outputs": [
    {
     "data": {
      "text/html": [
       "<div>\n",
       "<style scoped>\n",
       "    .dataframe tbody tr th:only-of-type {\n",
       "        vertical-align: middle;\n",
       "    }\n",
       "\n",
       "    .dataframe tbody tr th {\n",
       "        vertical-align: top;\n",
       "    }\n",
       "\n",
       "    .dataframe thead th {\n",
       "        text-align: right;\n",
       "    }\n",
       "</style>\n",
       "<table border=\"1\" class=\"dataframe\">\n",
       "  <thead>\n",
       "    <tr style=\"text-align: right;\">\n",
       "      <th></th>\n",
       "      <th>yas</th>\n",
       "      <th>maas</th>\n",
       "      <th>çalışmaSaati</th>\n",
       "      <th>emeklilik yaşı</th>\n",
       "    </tr>\n",
       "  </thead>\n",
       "  <tbody>\n",
       "    <tr>\n",
       "      <th>atlas</th>\n",
       "      <td>0.623378</td>\n",
       "      <td>-0.542116</td>\n",
       "      <td>1.484930</td>\n",
       "      <td>1.246756</td>\n",
       "    </tr>\n",
       "    <tr>\n",
       "      <th>atil</th>\n",
       "      <td>-0.920066</td>\n",
       "      <td>-0.386586</td>\n",
       "      <td>-1.968191</td>\n",
       "      <td>-1.840132</td>\n",
       "    </tr>\n",
       "    <tr>\n",
       "      <th>zeynep</th>\n",
       "      <td>-0.076514</td>\n",
       "      <td>0.784253</td>\n",
       "      <td>0.223302</td>\n",
       "      <td>-0.153029</td>\n",
       "    </tr>\n",
       "    <tr>\n",
       "      <th>mehmet</th>\n",
       "      <td>0.504776</td>\n",
       "      <td>1.741170</td>\n",
       "      <td>0.197018</td>\n",
       "      <td>1.009553</td>\n",
       "    </tr>\n",
       "  </tbody>\n",
       "</table>\n",
       "</div>"
      ],
      "text/plain": [
       "             yas      maas  çalışmaSaati  emeklilik yaşı\n",
       "atlas   0.623378 -0.542116      1.484930        1.246756\n",
       "atil   -0.920066 -0.386586     -1.968191       -1.840132\n",
       "zeynep -0.076514  0.784253      0.223302       -0.153029\n",
       "mehmet  0.504776  1.741170      0.197018        1.009553"
      ]
     },
     "execution_count": 20,
     "metadata": {},
     "output_type": "execute_result"
    }
   ],
   "source": [
    "yeniFrame  # framei çağırdık fakat silmeden getirdi."
   ]
  },
  {
   "cell_type": "code",
   "execution_count": 21,
   "metadata": {},
   "outputs": [],
   "source": [
    "yeniFrame.drop(\"emeklilik yaşı\",axis=1,inplace=True) # inplace=true yaptığımız zaman silindiğini görüyoruz."
   ]
  },
  {
   "cell_type": "code",
   "execution_count": 22,
   "metadata": {},
   "outputs": [
    {
     "data": {
      "text/html": [
       "<div>\n",
       "<style scoped>\n",
       "    .dataframe tbody tr th:only-of-type {\n",
       "        vertical-align: middle;\n",
       "    }\n",
       "\n",
       "    .dataframe tbody tr th {\n",
       "        vertical-align: top;\n",
       "    }\n",
       "\n",
       "    .dataframe thead th {\n",
       "        text-align: right;\n",
       "    }\n",
       "</style>\n",
       "<table border=\"1\" class=\"dataframe\">\n",
       "  <thead>\n",
       "    <tr style=\"text-align: right;\">\n",
       "      <th></th>\n",
       "      <th>yas</th>\n",
       "      <th>maas</th>\n",
       "      <th>çalışmaSaati</th>\n",
       "    </tr>\n",
       "  </thead>\n",
       "  <tbody>\n",
       "    <tr>\n",
       "      <th>atlas</th>\n",
       "      <td>0.623378</td>\n",
       "      <td>-0.542116</td>\n",
       "      <td>1.484930</td>\n",
       "    </tr>\n",
       "    <tr>\n",
       "      <th>atil</th>\n",
       "      <td>-0.920066</td>\n",
       "      <td>-0.386586</td>\n",
       "      <td>-1.968191</td>\n",
       "    </tr>\n",
       "    <tr>\n",
       "      <th>zeynep</th>\n",
       "      <td>-0.076514</td>\n",
       "      <td>0.784253</td>\n",
       "      <td>0.223302</td>\n",
       "    </tr>\n",
       "    <tr>\n",
       "      <th>mehmet</th>\n",
       "      <td>0.504776</td>\n",
       "      <td>1.741170</td>\n",
       "      <td>0.197018</td>\n",
       "    </tr>\n",
       "  </tbody>\n",
       "</table>\n",
       "</div>"
      ],
      "text/plain": [
       "             yas      maas  çalışmaSaati\n",
       "atlas   0.623378 -0.542116      1.484930\n",
       "atil   -0.920066 -0.386586     -1.968191\n",
       "zeynep -0.076514  0.784253      0.223302\n",
       "mehmet  0.504776  1.741170      0.197018"
      ]
     },
     "execution_count": 22,
     "metadata": {},
     "output_type": "execute_result"
    }
   ],
   "source": [
    "yeniFrame"
   ]
  },
  {
   "cell_type": "code",
   "execution_count": 23,
   "metadata": {},
   "outputs": [
    {
     "data": {
      "text/plain": [
       "-0.9200660425918813"
      ]
     },
     "execution_count": 23,
     "metadata": {},
     "output_type": "execute_result"
    }
   ],
   "source": [
    "yeniFrame.loc[\"atil\"][\"yas\"] # yalnızca atilin yaşını çağırdık."
   ]
  },
  {
   "cell_type": "code",
   "execution_count": 24,
   "metadata": {},
   "outputs": [
    {
     "data": {
      "text/html": [
       "<div>\n",
       "<style scoped>\n",
       "    .dataframe tbody tr th:only-of-type {\n",
       "        vertical-align: middle;\n",
       "    }\n",
       "\n",
       "    .dataframe tbody tr th {\n",
       "        vertical-align: top;\n",
       "    }\n",
       "\n",
       "    .dataframe thead th {\n",
       "        text-align: right;\n",
       "    }\n",
       "</style>\n",
       "<table border=\"1\" class=\"dataframe\">\n",
       "  <thead>\n",
       "    <tr style=\"text-align: right;\">\n",
       "      <th></th>\n",
       "      <th>yas</th>\n",
       "      <th>maas</th>\n",
       "      <th>çalışmaSaati</th>\n",
       "    </tr>\n",
       "  </thead>\n",
       "  <tbody>\n",
       "    <tr>\n",
       "      <th>atlas</th>\n",
       "      <td>False</td>\n",
       "      <td>True</td>\n",
       "      <td>False</td>\n",
       "    </tr>\n",
       "    <tr>\n",
       "      <th>atil</th>\n",
       "      <td>True</td>\n",
       "      <td>True</td>\n",
       "      <td>True</td>\n",
       "    </tr>\n",
       "    <tr>\n",
       "      <th>zeynep</th>\n",
       "      <td>True</td>\n",
       "      <td>False</td>\n",
       "      <td>False</td>\n",
       "    </tr>\n",
       "    <tr>\n",
       "      <th>mehmet</th>\n",
       "      <td>False</td>\n",
       "      <td>False</td>\n",
       "      <td>False</td>\n",
       "    </tr>\n",
       "  </tbody>\n",
       "</table>\n",
       "</div>"
      ],
      "text/plain": [
       "          yas   maas  çalışmaSaati\n",
       "atlas   False   True         False\n",
       "atil     True   True          True\n",
       "zeynep   True  False         False\n",
       "mehmet  False  False         False"
      ]
     },
     "execution_count": 24,
     "metadata": {},
     "output_type": "execute_result"
    }
   ],
   "source": [
    "yeniFrame<0 # o'dan küçük değerleri bulmak istiyoruz"
   ]
  },
  {
   "cell_type": "code",
   "execution_count": 25,
   "metadata": {},
   "outputs": [],
   "source": [
    "booleanFrame=yeniFrame<0"
   ]
  },
  {
   "cell_type": "code",
   "execution_count": 26,
   "metadata": {},
   "outputs": [
    {
     "data": {
      "text/html": [
       "<div>\n",
       "<style scoped>\n",
       "    .dataframe tbody tr th:only-of-type {\n",
       "        vertical-align: middle;\n",
       "    }\n",
       "\n",
       "    .dataframe tbody tr th {\n",
       "        vertical-align: top;\n",
       "    }\n",
       "\n",
       "    .dataframe thead th {\n",
       "        text-align: right;\n",
       "    }\n",
       "</style>\n",
       "<table border=\"1\" class=\"dataframe\">\n",
       "  <thead>\n",
       "    <tr style=\"text-align: right;\">\n",
       "      <th></th>\n",
       "      <th>yas</th>\n",
       "      <th>maas</th>\n",
       "      <th>çalışmaSaati</th>\n",
       "    </tr>\n",
       "  </thead>\n",
       "  <tbody>\n",
       "    <tr>\n",
       "      <th>atlas</th>\n",
       "      <td>False</td>\n",
       "      <td>True</td>\n",
       "      <td>False</td>\n",
       "    </tr>\n",
       "    <tr>\n",
       "      <th>atil</th>\n",
       "      <td>True</td>\n",
       "      <td>True</td>\n",
       "      <td>True</td>\n",
       "    </tr>\n",
       "    <tr>\n",
       "      <th>zeynep</th>\n",
       "      <td>True</td>\n",
       "      <td>False</td>\n",
       "      <td>False</td>\n",
       "    </tr>\n",
       "    <tr>\n",
       "      <th>mehmet</th>\n",
       "      <td>False</td>\n",
       "      <td>False</td>\n",
       "      <td>False</td>\n",
       "    </tr>\n",
       "  </tbody>\n",
       "</table>\n",
       "</div>"
      ],
      "text/plain": [
       "          yas   maas  çalışmaSaati\n",
       "atlas   False   True         False\n",
       "atil     True   True          True\n",
       "zeynep   True  False         False\n",
       "mehmet  False  False         False"
      ]
     },
     "execution_count": 26,
     "metadata": {},
     "output_type": "execute_result"
    }
   ],
   "source": [
    "booleanFrame"
   ]
  },
  {
   "cell_type": "code",
   "execution_count": 27,
   "metadata": {},
   "outputs": [
    {
     "data": {
      "text/html": [
       "<div>\n",
       "<style scoped>\n",
       "    .dataframe tbody tr th:only-of-type {\n",
       "        vertical-align: middle;\n",
       "    }\n",
       "\n",
       "    .dataframe tbody tr th {\n",
       "        vertical-align: top;\n",
       "    }\n",
       "\n",
       "    .dataframe thead th {\n",
       "        text-align: right;\n",
       "    }\n",
       "</style>\n",
       "<table border=\"1\" class=\"dataframe\">\n",
       "  <thead>\n",
       "    <tr style=\"text-align: right;\">\n",
       "      <th></th>\n",
       "      <th>yas</th>\n",
       "      <th>maas</th>\n",
       "      <th>çalışmaSaati</th>\n",
       "    </tr>\n",
       "  </thead>\n",
       "  <tbody>\n",
       "    <tr>\n",
       "      <th>atlas</th>\n",
       "      <td>NaN</td>\n",
       "      <td>-0.542116</td>\n",
       "      <td>NaN</td>\n",
       "    </tr>\n",
       "    <tr>\n",
       "      <th>atil</th>\n",
       "      <td>-0.920066</td>\n",
       "      <td>-0.386586</td>\n",
       "      <td>-1.968191</td>\n",
       "    </tr>\n",
       "    <tr>\n",
       "      <th>zeynep</th>\n",
       "      <td>-0.076514</td>\n",
       "      <td>NaN</td>\n",
       "      <td>NaN</td>\n",
       "    </tr>\n",
       "    <tr>\n",
       "      <th>mehmet</th>\n",
       "      <td>NaN</td>\n",
       "      <td>NaN</td>\n",
       "      <td>NaN</td>\n",
       "    </tr>\n",
       "  </tbody>\n",
       "</table>\n",
       "</div>"
      ],
      "text/plain": [
       "             yas      maas  çalışmaSaati\n",
       "atlas        NaN -0.542116           NaN\n",
       "atil   -0.920066 -0.386586     -1.968191\n",
       "zeynep -0.076514       NaN           NaN\n",
       "mehmet       NaN       NaN           NaN"
      ]
     },
     "execution_count": 27,
     "metadata": {},
     "output_type": "execute_result"
    }
   ],
   "source": [
    "yeniFrame[booleanFrame] # yeniframe içinde yalnızda 0'dan küçük değerleri gösterir."
   ]
  },
  {
   "cell_type": "code",
   "execution_count": 28,
   "metadata": {},
   "outputs": [
    {
     "data": {
      "text/html": [
       "<div>\n",
       "<style scoped>\n",
       "    .dataframe tbody tr th:only-of-type {\n",
       "        vertical-align: middle;\n",
       "    }\n",
       "\n",
       "    .dataframe tbody tr th {\n",
       "        vertical-align: top;\n",
       "    }\n",
       "\n",
       "    .dataframe thead th {\n",
       "        text-align: right;\n",
       "    }\n",
       "</style>\n",
       "<table border=\"1\" class=\"dataframe\">\n",
       "  <thead>\n",
       "    <tr style=\"text-align: right;\">\n",
       "      <th></th>\n",
       "      <th>yas</th>\n",
       "      <th>maas</th>\n",
       "      <th>çalışmaSaati</th>\n",
       "    </tr>\n",
       "  </thead>\n",
       "  <tbody>\n",
       "    <tr>\n",
       "      <th>atlas</th>\n",
       "      <td>0.623378</td>\n",
       "      <td>-0.542116</td>\n",
       "      <td>1.484930</td>\n",
       "    </tr>\n",
       "    <tr>\n",
       "      <th>mehmet</th>\n",
       "      <td>0.504776</td>\n",
       "      <td>1.741170</td>\n",
       "      <td>0.197018</td>\n",
       "    </tr>\n",
       "  </tbody>\n",
       "</table>\n",
       "</div>"
      ],
      "text/plain": [
       "             yas      maas  çalışmaSaati\n",
       "atlas   0.623378 -0.542116      1.484930\n",
       "mehmet  0.504776  1.741170      0.197018"
      ]
     },
     "execution_count": 28,
     "metadata": {},
     "output_type": "execute_result"
    }
   ],
   "source": [
    "yeniFrame[yeniFrame[\"yas\"]>0]  # yaşı sadece 0'dan büyük olanları getirdi."
   ]
  },
  {
   "cell_type": "code",
   "execution_count": 30,
   "metadata": {},
   "outputs": [
    {
     "data": {
      "text/html": [
       "<div>\n",
       "<style scoped>\n",
       "    .dataframe tbody tr th:only-of-type {\n",
       "        vertical-align: middle;\n",
       "    }\n",
       "\n",
       "    .dataframe tbody tr th {\n",
       "        vertical-align: top;\n",
       "    }\n",
       "\n",
       "    .dataframe thead th {\n",
       "        text-align: right;\n",
       "    }\n",
       "</style>\n",
       "<table border=\"1\" class=\"dataframe\">\n",
       "  <thead>\n",
       "    <tr style=\"text-align: right;\">\n",
       "      <th></th>\n",
       "      <th>yas</th>\n",
       "      <th>maas</th>\n",
       "      <th>çalışmaSaati</th>\n",
       "    </tr>\n",
       "  </thead>\n",
       "  <tbody>\n",
       "    <tr>\n",
       "      <th>atlas</th>\n",
       "      <td>0.623378</td>\n",
       "      <td>-0.542116</td>\n",
       "      <td>1.484930</td>\n",
       "    </tr>\n",
       "    <tr>\n",
       "      <th>atil</th>\n",
       "      <td>-0.920066</td>\n",
       "      <td>-0.386586</td>\n",
       "      <td>-1.968191</td>\n",
       "    </tr>\n",
       "    <tr>\n",
       "      <th>zeynep</th>\n",
       "      <td>-0.076514</td>\n",
       "      <td>0.784253</td>\n",
       "      <td>0.223302</td>\n",
       "    </tr>\n",
       "    <tr>\n",
       "      <th>mehmet</th>\n",
       "      <td>0.504776</td>\n",
       "      <td>1.741170</td>\n",
       "      <td>0.197018</td>\n",
       "    </tr>\n",
       "  </tbody>\n",
       "</table>\n",
       "</div>"
      ],
      "text/plain": [
       "             yas      maas  çalışmaSaati\n",
       "atlas   0.623378 -0.542116      1.484930\n",
       "atil   -0.920066 -0.386586     -1.968191\n",
       "zeynep -0.076514  0.784253      0.223302\n",
       "mehmet  0.504776  1.741170      0.197018"
      ]
     },
     "execution_count": 30,
     "metadata": {},
     "output_type": "execute_result"
    }
   ],
   "source": [
    "yeniFrame"
   ]
  },
  {
   "cell_type": "code",
   "execution_count": 31,
   "metadata": {},
   "outputs": [],
   "source": [
    "yeniListe=[\"ati\",\"zey\",\"meh\",\"atl\"]"
   ]
  },
  {
   "cell_type": "code",
   "execution_count": 32,
   "metadata": {},
   "outputs": [],
   "source": [
    "yeniFrame[\"yeni indeks\"]=yeniListe # yeni bir kolon ekledik."
   ]
  },
  {
   "cell_type": "code",
   "execution_count": 33,
   "metadata": {},
   "outputs": [
    {
     "data": {
      "text/html": [
       "<div>\n",
       "<style scoped>\n",
       "    .dataframe tbody tr th:only-of-type {\n",
       "        vertical-align: middle;\n",
       "    }\n",
       "\n",
       "    .dataframe tbody tr th {\n",
       "        vertical-align: top;\n",
       "    }\n",
       "\n",
       "    .dataframe thead th {\n",
       "        text-align: right;\n",
       "    }\n",
       "</style>\n",
       "<table border=\"1\" class=\"dataframe\">\n",
       "  <thead>\n",
       "    <tr style=\"text-align: right;\">\n",
       "      <th></th>\n",
       "      <th>yas</th>\n",
       "      <th>maas</th>\n",
       "      <th>çalışmaSaati</th>\n",
       "      <th>yeni indeks</th>\n",
       "    </tr>\n",
       "  </thead>\n",
       "  <tbody>\n",
       "    <tr>\n",
       "      <th>atlas</th>\n",
       "      <td>0.623378</td>\n",
       "      <td>-0.542116</td>\n",
       "      <td>1.484930</td>\n",
       "      <td>ati</td>\n",
       "    </tr>\n",
       "    <tr>\n",
       "      <th>atil</th>\n",
       "      <td>-0.920066</td>\n",
       "      <td>-0.386586</td>\n",
       "      <td>-1.968191</td>\n",
       "      <td>zey</td>\n",
       "    </tr>\n",
       "    <tr>\n",
       "      <th>zeynep</th>\n",
       "      <td>-0.076514</td>\n",
       "      <td>0.784253</td>\n",
       "      <td>0.223302</td>\n",
       "      <td>meh</td>\n",
       "    </tr>\n",
       "    <tr>\n",
       "      <th>mehmet</th>\n",
       "      <td>0.504776</td>\n",
       "      <td>1.741170</td>\n",
       "      <td>0.197018</td>\n",
       "      <td>atl</td>\n",
       "    </tr>\n",
       "  </tbody>\n",
       "</table>\n",
       "</div>"
      ],
      "text/plain": [
       "             yas      maas  çalışmaSaati yeni indeks\n",
       "atlas   0.623378 -0.542116      1.484930         ati\n",
       "atil   -0.920066 -0.386586     -1.968191         zey\n",
       "zeynep -0.076514  0.784253      0.223302         meh\n",
       "mehmet  0.504776  1.741170      0.197018         atl"
      ]
     },
     "execution_count": 33,
     "metadata": {},
     "output_type": "execute_result"
    }
   ],
   "source": [
    "yeniFrame"
   ]
  },
  {
   "cell_type": "code",
   "execution_count": 35,
   "metadata": {},
   "outputs": [],
   "source": [
    "yeniFrame.set_index(\"yeni indeks\",inplace=True) # yeni indeks kolonu gitti ve indeks olarak yazıldı."
   ]
  },
  {
   "cell_type": "code",
   "execution_count": 36,
   "metadata": {},
   "outputs": [
    {
     "data": {
      "text/html": [
       "<div>\n",
       "<style scoped>\n",
       "    .dataframe tbody tr th:only-of-type {\n",
       "        vertical-align: middle;\n",
       "    }\n",
       "\n",
       "    .dataframe tbody tr th {\n",
       "        vertical-align: top;\n",
       "    }\n",
       "\n",
       "    .dataframe thead th {\n",
       "        text-align: right;\n",
       "    }\n",
       "</style>\n",
       "<table border=\"1\" class=\"dataframe\">\n",
       "  <thead>\n",
       "    <tr style=\"text-align: right;\">\n",
       "      <th></th>\n",
       "      <th>yas</th>\n",
       "      <th>maas</th>\n",
       "      <th>çalışmaSaati</th>\n",
       "    </tr>\n",
       "    <tr>\n",
       "      <th>yeni indeks</th>\n",
       "      <th></th>\n",
       "      <th></th>\n",
       "      <th></th>\n",
       "    </tr>\n",
       "  </thead>\n",
       "  <tbody>\n",
       "    <tr>\n",
       "      <th>ati</th>\n",
       "      <td>0.623378</td>\n",
       "      <td>-0.542116</td>\n",
       "      <td>1.484930</td>\n",
       "    </tr>\n",
       "    <tr>\n",
       "      <th>zey</th>\n",
       "      <td>-0.920066</td>\n",
       "      <td>-0.386586</td>\n",
       "      <td>-1.968191</td>\n",
       "    </tr>\n",
       "    <tr>\n",
       "      <th>meh</th>\n",
       "      <td>-0.076514</td>\n",
       "      <td>0.784253</td>\n",
       "      <td>0.223302</td>\n",
       "    </tr>\n",
       "    <tr>\n",
       "      <th>atl</th>\n",
       "      <td>0.504776</td>\n",
       "      <td>1.741170</td>\n",
       "      <td>0.197018</td>\n",
       "    </tr>\n",
       "  </tbody>\n",
       "</table>\n",
       "</div>"
      ],
      "text/plain": [
       "                  yas      maas  çalışmaSaati\n",
       "yeni indeks                                  \n",
       "ati          0.623378 -0.542116      1.484930\n",
       "zey         -0.920066 -0.386586     -1.968191\n",
       "meh         -0.076514  0.784253      0.223302\n",
       "atl          0.504776  1.741170      0.197018"
      ]
     },
     "execution_count": 36,
     "metadata": {},
     "output_type": "execute_result"
    }
   ],
   "source": [
    "yeniFrame"
   ]
  },
  {
   "cell_type": "code",
   "execution_count": 38,
   "metadata": {},
   "outputs": [],
   "source": [
    "ilkIndeksler=[\"simpson\",\"simpson\",\"simpson\",\"sout park\",\"sout park\",\"sout park\"]"
   ]
  },
  {
   "cell_type": "code",
   "execution_count": 39,
   "metadata": {},
   "outputs": [],
   "source": [
    "içIndeksler=[\"homer\",\"bart\",\"marge\",\"cartman\",\"keny\",\"kyle\"]"
   ]
  },
  {
   "cell_type": "code",
   "execution_count": 40,
   "metadata": {},
   "outputs": [],
   "source": [
    "birleşmişIndeks=list(zip(ilkIndeksler,içIndeksler)) # iki indeksi zip ile birleştirdik."
   ]
  },
  {
   "cell_type": "code",
   "execution_count": 41,
   "metadata": {},
   "outputs": [
    {
     "data": {
      "text/plain": [
       "[('simpson', 'homer'),\n",
       " ('simpson', 'bart'),\n",
       " ('simpson', 'marge'),\n",
       " ('sout park', 'cartman'),\n",
       " ('sout park', 'keny'),\n",
       " ('sout park', 'kyle')]"
      ]
     },
     "execution_count": 41,
     "metadata": {},
     "output_type": "execute_result"
    }
   ],
   "source": [
    "birleşmişIndeks"
   ]
  },
  {
   "cell_type": "code",
   "execution_count": 42,
   "metadata": {},
   "outputs": [],
   "source": [
    "birleşmişIndeks=pd.MultiIndex.from_tuples(birleşmişIndeks) # çoklu indeksleme yaptık."
   ]
  },
  {
   "cell_type": "code",
   "execution_count": 43,
   "metadata": {},
   "outputs": [
    {
     "data": {
      "text/plain": [
       "MultiIndex([(  'simpson',   'homer'),\n",
       "            (  'simpson',    'bart'),\n",
       "            (  'simpson',   'marge'),\n",
       "            ('sout park', 'cartman'),\n",
       "            ('sout park',    'keny'),\n",
       "            ('sout park',    'kyle')],\n",
       "           )"
      ]
     },
     "execution_count": 43,
     "metadata": {},
     "output_type": "execute_result"
    }
   ],
   "source": [
    "birleşmişIndeks"
   ]
  },
  {
   "cell_type": "code",
   "execution_count": 44,
   "metadata": {},
   "outputs": [],
   "source": [
    "cizgiFilm=[[40,\"a\"],[10,\"b\"],[30,\"c\"],[9,\"d\"],[10,\"e\"],[11,\"f\"]]"
   ]
  },
  {
   "cell_type": "code",
   "execution_count": 48,
   "metadata": {},
   "outputs": [],
   "source": [
    "cizgiFilmNumpyDizisi=np.array(cizgiFilm)"
   ]
  },
  {
   "cell_type": "code",
   "execution_count": 49,
   "metadata": {},
   "outputs": [],
   "source": [
    "cizgiFilmDataFrame=pd.DataFrame(cizgiFilmNumpyDizisi,index=birleşmişIndeks,columns=[\"yas\",\"meslek\"])"
   ]
  },
  {
   "cell_type": "code",
   "execution_count": 50,
   "metadata": {},
   "outputs": [
    {
     "data": {
      "text/html": [
       "<div>\n",
       "<style scoped>\n",
       "    .dataframe tbody tr th:only-of-type {\n",
       "        vertical-align: middle;\n",
       "    }\n",
       "\n",
       "    .dataframe tbody tr th {\n",
       "        vertical-align: top;\n",
       "    }\n",
       "\n",
       "    .dataframe thead th {\n",
       "        text-align: right;\n",
       "    }\n",
       "</style>\n",
       "<table border=\"1\" class=\"dataframe\">\n",
       "  <thead>\n",
       "    <tr style=\"text-align: right;\">\n",
       "      <th></th>\n",
       "      <th></th>\n",
       "      <th>yas</th>\n",
       "      <th>meslek</th>\n",
       "    </tr>\n",
       "  </thead>\n",
       "  <tbody>\n",
       "    <tr>\n",
       "      <th rowspan=\"3\" valign=\"top\">simpson</th>\n",
       "      <th>homer</th>\n",
       "      <td>40</td>\n",
       "      <td>a</td>\n",
       "    </tr>\n",
       "    <tr>\n",
       "      <th>bart</th>\n",
       "      <td>10</td>\n",
       "      <td>b</td>\n",
       "    </tr>\n",
       "    <tr>\n",
       "      <th>marge</th>\n",
       "      <td>30</td>\n",
       "      <td>c</td>\n",
       "    </tr>\n",
       "    <tr>\n",
       "      <th rowspan=\"3\" valign=\"top\">sout park</th>\n",
       "      <th>cartman</th>\n",
       "      <td>9</td>\n",
       "      <td>d</td>\n",
       "    </tr>\n",
       "    <tr>\n",
       "      <th>keny</th>\n",
       "      <td>10</td>\n",
       "      <td>e</td>\n",
       "    </tr>\n",
       "    <tr>\n",
       "      <th>kyle</th>\n",
       "      <td>11</td>\n",
       "      <td>f</td>\n",
       "    </tr>\n",
       "  </tbody>\n",
       "</table>\n",
       "</div>"
      ],
      "text/plain": [
       "                  yas meslek\n",
       "simpson   homer    40      a\n",
       "          bart     10      b\n",
       "          marge    30      c\n",
       "sout park cartman   9      d\n",
       "          keny     10      e\n",
       "          kyle     11      f"
      ]
     },
     "execution_count": 50,
     "metadata": {},
     "output_type": "execute_result"
    }
   ],
   "source": [
    "cizgiFilmDataFrame"
   ]
  },
  {
   "cell_type": "code",
   "execution_count": 51,
   "metadata": {},
   "outputs": [
    {
     "data": {
      "text/html": [
       "<div>\n",
       "<style scoped>\n",
       "    .dataframe tbody tr th:only-of-type {\n",
       "        vertical-align: middle;\n",
       "    }\n",
       "\n",
       "    .dataframe tbody tr th {\n",
       "        vertical-align: top;\n",
       "    }\n",
       "\n",
       "    .dataframe thead th {\n",
       "        text-align: right;\n",
       "    }\n",
       "</style>\n",
       "<table border=\"1\" class=\"dataframe\">\n",
       "  <thead>\n",
       "    <tr style=\"text-align: right;\">\n",
       "      <th></th>\n",
       "      <th>yas</th>\n",
       "      <th>meslek</th>\n",
       "    </tr>\n",
       "  </thead>\n",
       "  <tbody>\n",
       "    <tr>\n",
       "      <th>homer</th>\n",
       "      <td>40</td>\n",
       "      <td>a</td>\n",
       "    </tr>\n",
       "    <tr>\n",
       "      <th>bart</th>\n",
       "      <td>10</td>\n",
       "      <td>b</td>\n",
       "    </tr>\n",
       "    <tr>\n",
       "      <th>marge</th>\n",
       "      <td>30</td>\n",
       "      <td>c</td>\n",
       "    </tr>\n",
       "  </tbody>\n",
       "</table>\n",
       "</div>"
      ],
      "text/plain": [
       "      yas meslek\n",
       "homer  40      a\n",
       "bart   10      b\n",
       "marge  30      c"
      ]
     },
     "execution_count": 51,
     "metadata": {},
     "output_type": "execute_result"
    }
   ],
   "source": [
    "cizgiFilmDataFrame.loc[\"simpson\"] # simpson kısmını getirdik."
   ]
  },
  {
   "cell_type": "code",
   "execution_count": 52,
   "metadata": {},
   "outputs": [
    {
     "data": {
      "text/plain": [
       "yas       40\n",
       "meslek     a\n",
       "Name: homer, dtype: object"
      ]
     },
     "execution_count": 52,
     "metadata": {},
     "output_type": "execute_result"
    }
   ],
   "source": [
    "cizgiFilmDataFrame.loc[\"simpson\"].loc[\"homer\"] # içinden indeksi seçtik"
   ]
  },
  {
   "cell_type": "code",
   "execution_count": null,
   "metadata": {},
   "outputs": [],
   "source": []
  }
 ],
 "metadata": {
  "kernelspec": {
   "display_name": "Python 3",
   "language": "python",
   "name": "python3"
  },
  "language_info": {
   "codemirror_mode": {
    "name": "ipython",
    "version": 3
   },
   "file_extension": ".py",
   "mimetype": "text/x-python",
   "name": "python",
   "nbconvert_exporter": "python",
   "pygments_lexer": "ipython3",
   "version": "3.8.5"
  }
 },
 "nbformat": 4,
 "nbformat_minor": 4
}
