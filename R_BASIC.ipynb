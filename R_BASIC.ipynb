{
  "nbformat": 4,
  "nbformat_minor": 0,
  "metadata": {
    "colab": {
      "provenance": []
    },
    "kernelspec": {
      "name": "ir",
      "display_name": "R"
    },
    "language_info": {
      "name": "R"
    }
  },
  "cells": [
    {
      "cell_type": "code",
      "source": [
        "8%%5\n",
        "8%/%5\n",
        "8/4*2\n",
        "sqrt(5)\n",
        "exp(1)\n",
        "log(100)"
      ],
      "metadata": {
        "colab": {
          "base_uri": "https://localhost:8080/",
          "height": 121
        },
        "id": "_HtjAYdIhbCN",
        "outputId": "38617c43-e490-4834-eb4c-cae174b70b70"
      },
      "execution_count": 85,
      "outputs": [
        {
          "output_type": "display_data",
          "data": {
            "text/html": [
              "3"
            ],
            "text/markdown": "3",
            "text/latex": "3",
            "text/plain": [
              "[1] 3"
            ]
          },
          "metadata": {}
        },
        {
          "output_type": "display_data",
          "data": {
            "text/html": [
              "1"
            ],
            "text/markdown": "1",
            "text/latex": "1",
            "text/plain": [
              "[1] 1"
            ]
          },
          "metadata": {}
        },
        {
          "output_type": "display_data",
          "data": {
            "text/html": [
              "4"
            ],
            "text/markdown": "4",
            "text/latex": "4",
            "text/plain": [
              "[1] 4"
            ]
          },
          "metadata": {}
        },
        {
          "output_type": "display_data",
          "data": {
            "text/html": [
              "2.23606797749979"
            ],
            "text/markdown": "2.23606797749979",
            "text/latex": "2.23606797749979",
            "text/plain": [
              "[1] 2.236068"
            ]
          },
          "metadata": {}
        },
        {
          "output_type": "display_data",
          "data": {
            "text/html": [
              "2.71828182845905"
            ],
            "text/markdown": "2.71828182845905",
            "text/latex": "2.71828182845905",
            "text/plain": [
              "[1] 2.718282"
            ]
          },
          "metadata": {}
        },
        {
          "output_type": "display_data",
          "data": {
            "text/html": [
              "4.60517018598809"
            ],
            "text/markdown": "4.60517018598809",
            "text/latex": "4.60517018598809",
            "text/plain": [
              "[1] 4.60517"
            ]
          },
          "metadata": {}
        }
      ]
    },
    {
      "cell_type": "code",
      "source": [
        "log(100,10)"
      ],
      "metadata": {
        "colab": {
          "base_uri": "https://localhost:8080/",
          "height": 34
        },
        "id": "6waGOUh_iXtI",
        "outputId": "205c4c9d-9611-46c2-b8c0-2376e2f26468"
      },
      "execution_count": 12,
      "outputs": [
        {
          "output_type": "display_data",
          "data": {
            "text/html": [
              "2"
            ],
            "text/markdown": "2",
            "text/latex": "2",
            "text/plain": [
              "[1] 2"
            ]
          },
          "metadata": {}
        }
      ]
    },
    {
      "cell_type": "code",
      "source": [
        "x<-8"
      ],
      "metadata": {
        "id": "DmYiL9Zoie9V"
      },
      "execution_count": 13,
      "outputs": []
    },
    {
      "cell_type": "code",
      "source": [
        "x"
      ],
      "metadata": {
        "colab": {
          "base_uri": "https://localhost:8080/",
          "height": 34
        },
        "id": "iXCAu5OVi_Br",
        "outputId": "c231ab34-7303-46e7-94ba-ca39f094d6e2"
      },
      "execution_count": 14,
      "outputs": [
        {
          "output_type": "display_data",
          "data": {
            "text/html": [
              "8"
            ],
            "text/markdown": "8",
            "text/latex": "8",
            "text/plain": [
              "[1] 8"
            ]
          },
          "metadata": {}
        }
      ]
    },
    {
      "cell_type": "code",
      "source": [
        "a<-3; b<-4;c<- -1"
      ],
      "metadata": {
        "id": "F7kDj2CWjAQA"
      },
      "execution_count": 17,
      "outputs": []
    },
    {
      "cell_type": "code",
      "source": [
        "x1<-(-b+sqrt(b**2-4*a*c))/(2*a)"
      ],
      "metadata": {
        "id": "D0mq9HTFkEF_"
      },
      "execution_count": 18,
      "outputs": []
    },
    {
      "cell_type": "code",
      "source": [
        "x1"
      ],
      "metadata": {
        "colab": {
          "base_uri": "https://localhost:8080/",
          "height": 34
        },
        "id": "aUXQsyWTkc_H",
        "outputId": "5a1cb23a-88dd-4d9b-f3a2-617378f31dc0"
      },
      "execution_count": 19,
      "outputs": [
        {
          "output_type": "display_data",
          "data": {
            "text/html": [
              "0.21525043702153"
            ],
            "text/markdown": "0.21525043702153",
            "text/latex": "0.21525043702153",
            "text/plain": [
              "[1] 0.2152504"
            ]
          },
          "metadata": {}
        }
      ]
    },
    {
      "cell_type": "code",
      "source": [
        "x2<-(-b-sqrt(b**2-4*a*c))/(2*a)"
      ],
      "metadata": {
        "id": "qW3v6mdakdyU"
      },
      "execution_count": 21,
      "outputs": []
    },
    {
      "cell_type": "code",
      "source": [
        "x2"
      ],
      "metadata": {
        "colab": {
          "base_uri": "https://localhost:8080/",
          "height": 34
        },
        "id": "VvsHXWUSkfTe",
        "outputId": "a628733c-3e2d-46ff-b62a-dee654a5e7fc"
      },
      "execution_count": 22,
      "outputs": [
        {
          "output_type": "display_data",
          "data": {
            "text/html": [
              "-1.54858377035486"
            ],
            "text/markdown": "-1.54858377035486",
            "text/latex": "-1.54858377035486",
            "text/plain": [
              "[1] -1.548584"
            ]
          },
          "metadata": {}
        }
      ]
    },
    {
      "cell_type": "code",
      "source": [
        "x<-5"
      ],
      "metadata": {
        "id": "PVnObRf4kv81"
      },
      "execution_count": 23,
      "outputs": []
    },
    {
      "cell_type": "code",
      "source": [
        "typeof(x)"
      ],
      "metadata": {
        "colab": {
          "base_uri": "https://localhost:8080/",
          "height": 34
        },
        "id": "8BLVfS5Bnr8_",
        "outputId": "f91dce11-8f30-4d81-a3f3-8de195dc2ebd"
      },
      "execution_count": 24,
      "outputs": [
        {
          "output_type": "display_data",
          "data": {
            "text/html": [
              "'double'"
            ],
            "text/markdown": "'double'",
            "text/latex": "'double'",
            "text/plain": [
              "[1] \"double\""
            ]
          },
          "metadata": {}
        }
      ]
    },
    {
      "cell_type": "code",
      "source": [
        "x<-5L"
      ],
      "metadata": {
        "id": "3j1gUNcFnuDk"
      },
      "execution_count": 25,
      "outputs": []
    },
    {
      "cell_type": "code",
      "source": [
        "typeof(x)"
      ],
      "metadata": {
        "colab": {
          "base_uri": "https://localhost:8080/",
          "height": 34
        },
        "id": "PJkZnQlhn9Ot",
        "outputId": "9bbb2327-cb4e-49a9-dd53-d4e297da6b28"
      },
      "execution_count": 26,
      "outputs": [
        {
          "output_type": "display_data",
          "data": {
            "text/html": [
              "'integer'"
            ],
            "text/markdown": "'integer'",
            "text/latex": "'integer'",
            "text/plain": [
              "[1] \"integer\""
            ]
          },
          "metadata": {}
        }
      ]
    },
    {
      "cell_type": "code",
      "source": [
        "x1 > x2 & x1 > 0"
      ],
      "metadata": {
        "colab": {
          "base_uri": "https://localhost:8080/",
          "height": 34
        },
        "id": "UyFHSy8On_co",
        "outputId": "03c1cd5c-81f9-40f4-c013-c50ae3fc38d7"
      },
      "execution_count": 27,
      "outputs": [
        {
          "output_type": "display_data",
          "data": {
            "text/html": [
              "TRUE"
            ],
            "text/markdown": "TRUE",
            "text/latex": "TRUE",
            "text/plain": [
              "[1] TRUE"
            ]
          },
          "metadata": {}
        }
      ]
    },
    {
      "cell_type": "code",
      "source": [
        "x1 > x2 | x1 > 0"
      ],
      "metadata": {
        "colab": {
          "base_uri": "https://localhost:8080/",
          "height": 34
        },
        "id": "5fVoJV_todSP",
        "outputId": "ff9de1b2-f053-47b7-f5fb-1fc5b6f2d4c6"
      },
      "execution_count": 29,
      "outputs": [
        {
          "output_type": "display_data",
          "data": {
            "text/html": [
              "TRUE"
            ],
            "text/markdown": "TRUE",
            "text/latex": "TRUE",
            "text/plain": [
              "[1] TRUE"
            ]
          },
          "metadata": {}
        }
      ]
    },
    {
      "cell_type": "code",
      "source": [
        "!(x1 > x2 | x1 > 0)"
      ],
      "metadata": {
        "colab": {
          "base_uri": "https://localhost:8080/",
          "height": 34
        },
        "id": "3Yr5SGsNoj5F",
        "outputId": "e79d6d0e-4c37-427d-b46f-8cddaeb2bebc"
      },
      "execution_count": 30,
      "outputs": [
        {
          "output_type": "display_data",
          "data": {
            "text/html": [
              "FALSE"
            ],
            "text/markdown": "FALSE",
            "text/latex": "FALSE",
            "text/plain": [
              "[1] FALSE"
            ]
          },
          "metadata": {}
        }
      ]
    },
    {
      "cell_type": "code",
      "source": [
        "x<-runif(10,min=3,max=10)"
      ],
      "metadata": {
        "id": "oM9Jf3RfpOTo"
      },
      "execution_count": 64,
      "outputs": []
    },
    {
      "cell_type": "code",
      "source": [
        "x<-rnorm(10,mean=3,sd=1.2)"
      ],
      "metadata": {
        "id": "jlYlVaXFpWWS"
      },
      "execution_count": 65,
      "outputs": []
    },
    {
      "cell_type": "code",
      "source": [
        "x<-rnorm(100)   # x'in -0,5 ile 0,5 arasında kalan değerlerini 0 yap"
      ],
      "metadata": {
        "id": "fRHl-QLZpiU1"
      },
      "execution_count": 69,
      "outputs": []
    },
    {
      "cell_type": "code",
      "source": [
        "x[x>-0.5 & x < 0.5]"
      ],
      "metadata": {
        "colab": {
          "base_uri": "https://localhost:8080/",
          "height": 121
        },
        "id": "vJvzT2-7pswR",
        "outputId": "f035ac93-900a-4c10-a003-ae4ecfa731b4"
      },
      "execution_count": 70,
      "outputs": [
        {
          "output_type": "display_data",
          "data": {
            "text/html": [
              "<style>\n",
              ".list-inline {list-style: none; margin:0; padding: 0}\n",
              ".list-inline>li {display: inline-block}\n",
              ".list-inline>li:not(:last-child)::after {content: \"\\00b7\"; padding: 0 .5ex}\n",
              "</style>\n",
              "<ol class=list-inline><li>0.298912850026936</li><li>0.144857780272143</li><li>0.420580578331951</li><li>-0.46079042693388</li><li>0.183293752054071</li><li>0.0808413597646722</li><li>0.227456425508872</li><li>0.144196646086571</li><li>-0.134495207486476</li><li>-0.394574272753347</li><li>-0.110926055427387</li><li>0.353909526717817</li><li>-0.01801723803779</li><li>-0.402651889982369</li><li>-0.203071295311829</li><li>0.421932933543308</li><li>-0.247356005220143</li><li>-0.423174031083603</li><li>-0.00959244579914681</li><li>0.237279557466221</li><li>0.182220815807933</li><li>-0.235026739784449</li><li>0.414396780307396</li><li>0.164002700081536</li><li>-0.337540802712943</li><li>0.373564562429329</li><li>0.430063885436934</li><li>0.232158150611613</li><li>-0.19027016261129</li><li>-0.443248834283418</li><li>-0.0810588355200123</li><li>-0.0354747219341522</li></ol>\n"
            ],
            "text/markdown": "1. 0.298912850026936\n2. 0.144857780272143\n3. 0.420580578331951\n4. -0.46079042693388\n5. 0.183293752054071\n6. 0.0808413597646722\n7. 0.227456425508872\n8. 0.144196646086571\n9. -0.134495207486476\n10. -0.394574272753347\n11. -0.110926055427387\n12. 0.353909526717817\n13. -0.01801723803779\n14. -0.402651889982369\n15. -0.203071295311829\n16. 0.421932933543308\n17. -0.247356005220143\n18. -0.423174031083603\n19. -0.00959244579914681\n20. 0.237279557466221\n21. 0.182220815807933\n22. -0.235026739784449\n23. 0.414396780307396\n24. 0.164002700081536\n25. -0.337540802712943\n26. 0.373564562429329\n27. 0.430063885436934\n28. 0.232158150611613\n29. -0.19027016261129\n30. -0.443248834283418\n31. -0.0810588355200123\n32. -0.0354747219341522\n\n\n",
            "text/latex": "\\begin{enumerate*}\n\\item 0.298912850026936\n\\item 0.144857780272143\n\\item 0.420580578331951\n\\item -0.46079042693388\n\\item 0.183293752054071\n\\item 0.0808413597646722\n\\item 0.227456425508872\n\\item 0.144196646086571\n\\item -0.134495207486476\n\\item -0.394574272753347\n\\item -0.110926055427387\n\\item 0.353909526717817\n\\item -0.01801723803779\n\\item -0.402651889982369\n\\item -0.203071295311829\n\\item 0.421932933543308\n\\item -0.247356005220143\n\\item -0.423174031083603\n\\item -0.00959244579914681\n\\item 0.237279557466221\n\\item 0.182220815807933\n\\item -0.235026739784449\n\\item 0.414396780307396\n\\item 0.164002700081536\n\\item -0.337540802712943\n\\item 0.373564562429329\n\\item 0.430063885436934\n\\item 0.232158150611613\n\\item -0.19027016261129\n\\item -0.443248834283418\n\\item -0.0810588355200123\n\\item -0.0354747219341522\n\\end{enumerate*}\n",
            "text/plain": [
              " [1]  0.298912850  0.144857780  0.420580578 -0.460790427  0.183293752\n",
              " [6]  0.080841360  0.227456426  0.144196646 -0.134495207 -0.394574273\n",
              "[11] -0.110926055  0.353909527 -0.018017238 -0.402651890 -0.203071295\n",
              "[16]  0.421932934 -0.247356005 -0.423174031 -0.009592446  0.237279557\n",
              "[21]  0.182220816 -0.235026740  0.414396780  0.164002700 -0.337540803\n",
              "[26]  0.373564562  0.430063885  0.232158151 -0.190270163 -0.443248834\n",
              "[31] -0.081058836 -0.035474722"
            ]
          },
          "metadata": {}
        }
      ]
    },
    {
      "cell_type": "code",
      "source": [
        "x[x>-0.5 & x < 0.5]<-0\n",
        "x"
      ],
      "metadata": {
        "colab": {
          "base_uri": "https://localhost:8080/",
          "height": 243
        },
        "id": "auS2xvkIptWh",
        "outputId": "c1538946-5c40-4a16-d1b1-034f1e1fbeef"
      },
      "execution_count": 71,
      "outputs": [
        {
          "output_type": "display_data",
          "data": {
            "text/html": [
              "<style>\n",
              ".list-inline {list-style: none; margin:0; padding: 0}\n",
              ".list-inline>li {display: inline-block}\n",
              ".list-inline>li:not(:last-child)::after {content: \"\\00b7\"; padding: 0 .5ex}\n",
              "</style>\n",
              "<ol class=list-inline><li>-1.0098559293392</li><li>-1.47649553403737</li><li>0</li><li>0.568065845444875</li><li>0.816630165761007</li><li>0.791065587329463</li><li>-0.508000589800055</li><li>0</li><li>0</li><li>0</li><li>0</li><li>0</li><li>1.1319770862132</li><li>0</li><li>0</li><li>-0.580281388100502</li><li>0</li><li>0.728446609864627</li><li>0.978276576080154</li><li>-0.867424897382068</li><li>0</li><li>-0.576354442006556</li><li>-0.522547104485613</li><li>0.930611685013249</li><li>-1.56423349726524</li><li>2.21675885383205</li><li>1.46887752567227</li><li>0</li><li>-1.5837993819816</li><li>1.45137576409287</li><li>-1.04981889562341</li><li>0</li><li>0.81879372079032</li><li>0</li><li>-1.70909916109795</li><li>0</li><li>0.982847896131222</li><li>-1.25557092694861</li><li>0</li><li>1.43279719273417</li><li>-0.643801638090306</li><li>1.15943782422119</li><li>0.914359669530861</li><li>-1.46587056625219</li><li>-1.42472716747201</li><li>-1.10415973880516</li><li>-2.60681606992836</li><li>-0.502630840850556</li><li>-1.32249709037487</li><li>1.09108738672251</li><li>1.23857469113068</li><li>0</li><li>0</li><li>0</li><li>1.33693586927567</li><li>0</li><li>-1.10677197727558</li><li>-0.761840012304297</li><li>-1.34193602013065</li><li>0</li><li>-2.40944207714534</li><li>-1.10782385593198</li><li>1.32907687016043</li><li>0</li><li>-0.776744533304428</li><li>1.42299524100294</li><li>0</li><li>-1.07607760758209</li><li>0</li><li>0</li><li>-1.49819117796341</li><li>0</li><li>0</li><li>-1.2949268677235</li><li>-0.550911472169595</li><li>0</li><li>-0.511692269026696</li><li>-1.39471854040273</li><li>1.47076671696976</li><li>0</li><li>-2.51269064362583</li><li>-0.791326433805608</li><li>0.747404284119489</li><li>-0.985296202682709</li><li>-1.27019291463358</li><li>-0.928496864669762</li><li>0</li><li>1.40987649835038</li><li>0</li><li>0.766544415965992</li><li>2.52733908616183</li><li>1.62330225653982</li><li>1.47465057374397</li><li>0</li><li>-0.948839482270317</li><li>-1.47041974730199</li><li>0</li><li>0.511189851952823</li><li>0.614901545946839</li><li>-0.587041064771576</li></ol>\n"
            ],
            "text/markdown": "1. -1.0098559293392\n2. -1.47649553403737\n3. 0\n4. 0.568065845444875\n5. 0.816630165761007\n6. 0.791065587329463\n7. -0.508000589800055\n8. 0\n9. 0\n10. 0\n11. 0\n12. 0\n13. 1.1319770862132\n14. 0\n15. 0\n16. -0.580281388100502\n17. 0\n18. 0.728446609864627\n19. 0.978276576080154\n20. -0.867424897382068\n21. 0\n22. -0.576354442006556\n23. -0.522547104485613\n24. 0.930611685013249\n25. -1.56423349726524\n26. 2.21675885383205\n27. 1.46887752567227\n28. 0\n29. -1.5837993819816\n30. 1.45137576409287\n31. -1.04981889562341\n32. 0\n33. 0.81879372079032\n34. 0\n35. -1.70909916109795\n36. 0\n37. 0.982847896131222\n38. -1.25557092694861\n39. 0\n40. 1.43279719273417\n41. -0.643801638090306\n42. 1.15943782422119\n43. 0.914359669530861\n44. -1.46587056625219\n45. -1.42472716747201\n46. -1.10415973880516\n47. -2.60681606992836\n48. -0.502630840850556\n49. -1.32249709037487\n50. 1.09108738672251\n51. 1.23857469113068\n52. 0\n53. 0\n54. 0\n55. 1.33693586927567\n56. 0\n57. -1.10677197727558\n58. -0.761840012304297\n59. -1.34193602013065\n60. 0\n61. -2.40944207714534\n62. -1.10782385593198\n63. 1.32907687016043\n64. 0\n65. -0.776744533304428\n66. 1.42299524100294\n67. 0\n68. -1.07607760758209\n69. 0\n70. 0\n71. -1.49819117796341\n72. 0\n73. 0\n74. -1.2949268677235\n75. -0.550911472169595\n76. 0\n77. -0.511692269026696\n78. -1.39471854040273\n79. 1.47076671696976\n80. 0\n81. -2.51269064362583\n82. -0.791326433805608\n83. 0.747404284119489\n84. -0.985296202682709\n85. -1.27019291463358\n86. -0.928496864669762\n87. 0\n88. 1.40987649835038\n89. 0\n90. 0.766544415965992\n91. 2.52733908616183\n92. 1.62330225653982\n93. 1.47465057374397\n94. 0\n95. -0.948839482270317\n96. -1.47041974730199\n97. 0\n98. 0.511189851952823\n99. 0.614901545946839\n100. -0.587041064771576\n\n\n",
            "text/latex": "\\begin{enumerate*}\n\\item -1.0098559293392\n\\item -1.47649553403737\n\\item 0\n\\item 0.568065845444875\n\\item 0.816630165761007\n\\item 0.791065587329463\n\\item -0.508000589800055\n\\item 0\n\\item 0\n\\item 0\n\\item 0\n\\item 0\n\\item 1.1319770862132\n\\item 0\n\\item 0\n\\item -0.580281388100502\n\\item 0\n\\item 0.728446609864627\n\\item 0.978276576080154\n\\item -0.867424897382068\n\\item 0\n\\item -0.576354442006556\n\\item -0.522547104485613\n\\item 0.930611685013249\n\\item -1.56423349726524\n\\item 2.21675885383205\n\\item 1.46887752567227\n\\item 0\n\\item -1.5837993819816\n\\item 1.45137576409287\n\\item -1.04981889562341\n\\item 0\n\\item 0.81879372079032\n\\item 0\n\\item -1.70909916109795\n\\item 0\n\\item 0.982847896131222\n\\item -1.25557092694861\n\\item 0\n\\item 1.43279719273417\n\\item -0.643801638090306\n\\item 1.15943782422119\n\\item 0.914359669530861\n\\item -1.46587056625219\n\\item -1.42472716747201\n\\item -1.10415973880516\n\\item -2.60681606992836\n\\item -0.502630840850556\n\\item -1.32249709037487\n\\item 1.09108738672251\n\\item 1.23857469113068\n\\item 0\n\\item 0\n\\item 0\n\\item 1.33693586927567\n\\item 0\n\\item -1.10677197727558\n\\item -0.761840012304297\n\\item -1.34193602013065\n\\item 0\n\\item -2.40944207714534\n\\item -1.10782385593198\n\\item 1.32907687016043\n\\item 0\n\\item -0.776744533304428\n\\item 1.42299524100294\n\\item 0\n\\item -1.07607760758209\n\\item 0\n\\item 0\n\\item -1.49819117796341\n\\item 0\n\\item 0\n\\item -1.2949268677235\n\\item -0.550911472169595\n\\item 0\n\\item -0.511692269026696\n\\item -1.39471854040273\n\\item 1.47076671696976\n\\item 0\n\\item -2.51269064362583\n\\item -0.791326433805608\n\\item 0.747404284119489\n\\item -0.985296202682709\n\\item -1.27019291463358\n\\item -0.928496864669762\n\\item 0\n\\item 1.40987649835038\n\\item 0\n\\item 0.766544415965992\n\\item 2.52733908616183\n\\item 1.62330225653982\n\\item 1.47465057374397\n\\item 0\n\\item -0.948839482270317\n\\item -1.47041974730199\n\\item 0\n\\item 0.511189851952823\n\\item 0.614901545946839\n\\item -0.587041064771576\n\\end{enumerate*}\n",
            "text/plain": [
              "  [1] -1.0098559 -1.4764955  0.0000000  0.5680658  0.8166302  0.7910656\n",
              "  [7] -0.5080006  0.0000000  0.0000000  0.0000000  0.0000000  0.0000000\n",
              " [13]  1.1319771  0.0000000  0.0000000 -0.5802814  0.0000000  0.7284466\n",
              " [19]  0.9782766 -0.8674249  0.0000000 -0.5763544 -0.5225471  0.9306117\n",
              " [25] -1.5642335  2.2167589  1.4688775  0.0000000 -1.5837994  1.4513758\n",
              " [31] -1.0498189  0.0000000  0.8187937  0.0000000 -1.7090992  0.0000000\n",
              " [37]  0.9828479 -1.2555709  0.0000000  1.4327972 -0.6438016  1.1594378\n",
              " [43]  0.9143597 -1.4658706 -1.4247272 -1.1041597 -2.6068161 -0.5026308\n",
              " [49] -1.3224971  1.0910874  1.2385747  0.0000000  0.0000000  0.0000000\n",
              " [55]  1.3369359  0.0000000 -1.1067720 -0.7618400 -1.3419360  0.0000000\n",
              " [61] -2.4094421 -1.1078239  1.3290769  0.0000000 -0.7767445  1.4229952\n",
              " [67]  0.0000000 -1.0760776  0.0000000  0.0000000 -1.4981912  0.0000000\n",
              " [73]  0.0000000 -1.2949269 -0.5509115  0.0000000 -0.5116923 -1.3947185\n",
              " [79]  1.4707667  0.0000000 -2.5126906 -0.7913264  0.7474043 -0.9852962\n",
              " [85] -1.2701929 -0.9284969  0.0000000  1.4098765  0.0000000  0.7665444\n",
              " [91]  2.5273391  1.6233023  1.4746506  0.0000000 -0.9488395 -1.4704197\n",
              " [97]  0.0000000  0.5111899  0.6149015 -0.5870411"
            ]
          },
          "metadata": {}
        }
      ]
    },
    {
      "cell_type": "code",
      "source": [
        "x<- 1:10\n",
        "x"
      ],
      "metadata": {
        "colab": {
          "base_uri": "https://localhost:8080/",
          "height": 34
        },
        "id": "A0wrNnr0qbMV",
        "outputId": "14bead7a-105f-43b0-fb62-1b26e5bd591e"
      },
      "execution_count": 61,
      "outputs": [
        {
          "output_type": "display_data",
          "data": {
            "text/html": [
              "<style>\n",
              ".list-inline {list-style: none; margin:0; padding: 0}\n",
              ".list-inline>li {display: inline-block}\n",
              ".list-inline>li:not(:last-child)::after {content: \"\\00b7\"; padding: 0 .5ex}\n",
              "</style>\n",
              "<ol class=list-inline><li>1</li><li>2</li><li>3</li><li>4</li><li>5</li><li>6</li><li>7</li><li>8</li><li>9</li><li>10</li></ol>\n"
            ],
            "text/markdown": "1. 1\n2. 2\n3. 3\n4. 4\n5. 5\n6. 6\n7. 7\n8. 8\n9. 9\n10. 10\n\n\n",
            "text/latex": "\\begin{enumerate*}\n\\item 1\n\\item 2\n\\item 3\n\\item 4\n\\item 5\n\\item 6\n\\item 7\n\\item 8\n\\item 9\n\\item 10\n\\end{enumerate*}\n",
            "text/plain": [
              " [1]  1  2  3  4  5  6  7  8  9 10"
            ]
          },
          "metadata": {}
        }
      ]
    },
    {
      "cell_type": "code",
      "source": [
        "x<- 15:8\n",
        "x"
      ],
      "metadata": {
        "colab": {
          "base_uri": "https://localhost:8080/",
          "height": 34
        },
        "id": "4joLA230qmvR",
        "outputId": "bb4f9ee2-4ca6-4ee2-bf9c-df42ea47a918"
      },
      "execution_count": 60,
      "outputs": [
        {
          "output_type": "display_data",
          "data": {
            "text/html": [
              "<style>\n",
              ".list-inline {list-style: none; margin:0; padding: 0}\n",
              ".list-inline>li {display: inline-block}\n",
              ".list-inline>li:not(:last-child)::after {content: \"\\00b7\"; padding: 0 .5ex}\n",
              "</style>\n",
              "<ol class=list-inline><li>15</li><li>14</li><li>13</li><li>12</li><li>11</li><li>10</li><li>9</li><li>8</li></ol>\n"
            ],
            "text/markdown": "1. 15\n2. 14\n3. 13\n4. 12\n5. 11\n6. 10\n7. 9\n8. 8\n\n\n",
            "text/latex": "\\begin{enumerate*}\n\\item 15\n\\item 14\n\\item 13\n\\item 12\n\\item 11\n\\item 10\n\\item 9\n\\item 8\n\\end{enumerate*}\n",
            "text/plain": [
              "[1] 15 14 13 12 11 10  9  8"
            ]
          },
          "metadata": {}
        }
      ]
    },
    {
      "cell_type": "code",
      "source": [
        "seq(2,13,by=1.8)"
      ],
      "metadata": {
        "colab": {
          "base_uri": "https://localhost:8080/",
          "height": 34
        },
        "id": "HI9oQIbiqwV-",
        "outputId": "f7dfde5b-b899-4c38-a3e2-d1aa599a44da"
      },
      "execution_count": 42,
      "outputs": [
        {
          "output_type": "display_data",
          "data": {
            "text/html": [
              "<style>\n",
              ".list-inline {list-style: none; margin:0; padding: 0}\n",
              ".list-inline>li {display: inline-block}\n",
              ".list-inline>li:not(:last-child)::after {content: \"\\00b7\"; padding: 0 .5ex}\n",
              "</style>\n",
              "<ol class=list-inline><li>2</li><li>3.8</li><li>5.6</li><li>7.4</li><li>9.2</li><li>11</li><li>12.8</li></ol>\n"
            ],
            "text/markdown": "1. 2\n2. 3.8\n3. 5.6\n4. 7.4\n5. 9.2\n6. 11\n7. 12.8\n\n\n",
            "text/latex": "\\begin{enumerate*}\n\\item 2\n\\item 3.8\n\\item 5.6\n\\item 7.4\n\\item 9.2\n\\item 11\n\\item 12.8\n\\end{enumerate*}\n",
            "text/plain": [
              "[1]  2.0  3.8  5.6  7.4  9.2 11.0 12.8"
            ]
          },
          "metadata": {}
        }
      ]
    },
    {
      "cell_type": "code",
      "source": [
        "seq(15,7,by=-2)"
      ],
      "metadata": {
        "colab": {
          "base_uri": "https://localhost:8080/",
          "height": 34
        },
        "id": "qrV3LZ3xrElF",
        "outputId": "93e9cd1b-2b0c-4db6-ac5e-53ac2f69362f"
      },
      "execution_count": 43,
      "outputs": [
        {
          "output_type": "display_data",
          "data": {
            "text/html": [
              "<style>\n",
              ".list-inline {list-style: none; margin:0; padding: 0}\n",
              ".list-inline>li {display: inline-block}\n",
              ".list-inline>li:not(:last-child)::after {content: \"\\00b7\"; padding: 0 .5ex}\n",
              "</style>\n",
              "<ol class=list-inline><li>15</li><li>13</li><li>11</li><li>9</li><li>7</li></ol>\n"
            ],
            "text/markdown": "1. 15\n2. 13\n3. 11\n4. 9\n5. 7\n\n\n",
            "text/latex": "\\begin{enumerate*}\n\\item 15\n\\item 13\n\\item 11\n\\item 9\n\\item 7\n\\end{enumerate*}\n",
            "text/plain": [
              "[1] 15 13 11  9  7"
            ]
          },
          "metadata": {}
        }
      ]
    },
    {
      "cell_type": "code",
      "source": [
        "seq(2,13,length.out = 8) # 8 eşit parçaya bölecek"
      ],
      "metadata": {
        "colab": {
          "base_uri": "https://localhost:8080/",
          "height": 34
        },
        "id": "j1owTCxCrIqS",
        "outputId": "ab1c797e-e1ed-4738-b9e1-5351759b815e"
      },
      "execution_count": 44,
      "outputs": [
        {
          "output_type": "display_data",
          "data": {
            "text/html": [
              "<style>\n",
              ".list-inline {list-style: none; margin:0; padding: 0}\n",
              ".list-inline>li {display: inline-block}\n",
              ".list-inline>li:not(:last-child)::after {content: \"\\00b7\"; padding: 0 .5ex}\n",
              "</style>\n",
              "<ol class=list-inline><li>2</li><li>3.57142857142857</li><li>5.14285714285714</li><li>6.71428571428571</li><li>8.28571428571428</li><li>9.85714285714286</li><li>11.4285714285714</li><li>13</li></ol>\n"
            ],
            "text/markdown": "1. 2\n2. 3.57142857142857\n3. 5.14285714285714\n4. 6.71428571428571\n5. 8.28571428571428\n6. 9.85714285714286\n7. 11.4285714285714\n8. 13\n\n\n",
            "text/latex": "\\begin{enumerate*}\n\\item 2\n\\item 3.57142857142857\n\\item 5.14285714285714\n\\item 6.71428571428571\n\\item 8.28571428571428\n\\item 9.85714285714286\n\\item 11.4285714285714\n\\item 13\n\\end{enumerate*}\n",
            "text/plain": [
              "[1]  2.000000  3.571429  5.142857  6.714286  8.285714  9.857143 11.428571\n",
              "[8] 13.000000"
            ]
          },
          "metadata": {}
        }
      ]
    },
    {
      "cell_type": "code",
      "source": [
        "rep(1:3,times=3)"
      ],
      "metadata": {
        "colab": {
          "base_uri": "https://localhost:8080/",
          "height": 34
        },
        "id": "gF_cLo-QrS_d",
        "outputId": "de05a3bd-dff7-48ba-d6ad-3f5e7125bbc9"
      },
      "execution_count": 45,
      "outputs": [
        {
          "output_type": "display_data",
          "data": {
            "text/html": [
              "<style>\n",
              ".list-inline {list-style: none; margin:0; padding: 0}\n",
              ".list-inline>li {display: inline-block}\n",
              ".list-inline>li:not(:last-child)::after {content: \"\\00b7\"; padding: 0 .5ex}\n",
              "</style>\n",
              "<ol class=list-inline><li>1</li><li>2</li><li>3</li><li>1</li><li>2</li><li>3</li><li>1</li><li>2</li><li>3</li></ol>\n"
            ],
            "text/markdown": "1. 1\n2. 2\n3. 3\n4. 1\n5. 2\n6. 3\n7. 1\n8. 2\n9. 3\n\n\n",
            "text/latex": "\\begin{enumerate*}\n\\item 1\n\\item 2\n\\item 3\n\\item 1\n\\item 2\n\\item 3\n\\item 1\n\\item 2\n\\item 3\n\\end{enumerate*}\n",
            "text/plain": [
              "[1] 1 2 3 1 2 3 1 2 3"
            ]
          },
          "metadata": {}
        }
      ]
    },
    {
      "cell_type": "code",
      "source": [
        "rep(1:3,length.out=8) # eleman sayısı 8 olana kadar çoğaltıcak"
      ],
      "metadata": {
        "colab": {
          "base_uri": "https://localhost:8080/",
          "height": 34
        },
        "id": "5poTid2wrhit",
        "outputId": "49eb7f9f-5da8-4247-883f-299e890e48c4"
      },
      "execution_count": 46,
      "outputs": [
        {
          "output_type": "display_data",
          "data": {
            "text/html": [
              "<style>\n",
              ".list-inline {list-style: none; margin:0; padding: 0}\n",
              ".list-inline>li {display: inline-block}\n",
              ".list-inline>li:not(:last-child)::after {content: \"\\00b7\"; padding: 0 .5ex}\n",
              "</style>\n",
              "<ol class=list-inline><li>1</li><li>2</li><li>3</li><li>1</li><li>2</li><li>3</li><li>1</li><li>2</li></ol>\n"
            ],
            "text/markdown": "1. 1\n2. 2\n3. 3\n4. 1\n5. 2\n6. 3\n7. 1\n8. 2\n\n\n",
            "text/latex": "\\begin{enumerate*}\n\\item 1\n\\item 2\n\\item 3\n\\item 1\n\\item 2\n\\item 3\n\\item 1\n\\item 2\n\\end{enumerate*}\n",
            "text/plain": [
              "[1] 1 2 3 1 2 3 1 2"
            ]
          },
          "metadata": {}
        }
      ]
    },
    {
      "cell_type": "code",
      "source": [
        "rep(1:3,each=3) # vektörün içine aldığı elemanları sırayla 3 defa çoğaltıyor."
      ],
      "metadata": {
        "colab": {
          "base_uri": "https://localhost:8080/",
          "height": 34
        },
        "id": "VnjyZZ8orwpD",
        "outputId": "8ffd179c-238a-4fa2-d5ee-18fb3de47385"
      },
      "execution_count": 47,
      "outputs": [
        {
          "output_type": "display_data",
          "data": {
            "text/html": [
              "<style>\n",
              ".list-inline {list-style: none; margin:0; padding: 0}\n",
              ".list-inline>li {display: inline-block}\n",
              ".list-inline>li:not(:last-child)::after {content: \"\\00b7\"; padding: 0 .5ex}\n",
              "</style>\n",
              "<ol class=list-inline><li>1</li><li>1</li><li>1</li><li>2</li><li>2</li><li>2</li><li>3</li><li>3</li><li>3</li></ol>\n"
            ],
            "text/markdown": "1. 1\n2. 1\n3. 1\n4. 2\n5. 2\n6. 2\n7. 3\n8. 3\n9. 3\n\n\n",
            "text/latex": "\\begin{enumerate*}\n\\item 1\n\\item 1\n\\item 1\n\\item 2\n\\item 2\n\\item 2\n\\item 3\n\\item 3\n\\item 3\n\\end{enumerate*}\n",
            "text/plain": [
              "[1] 1 1 1 2 2 2 3 3 3"
            ]
          },
          "metadata": {}
        }
      ]
    },
    {
      "cell_type": "code",
      "source": [
        "x<-1:5"
      ],
      "metadata": {
        "id": "OPsoWewSsMkA"
      },
      "execution_count": 48,
      "outputs": []
    },
    {
      "cell_type": "code",
      "source": [
        "y<-2:6"
      ],
      "metadata": {
        "id": "GTVipIeBscaZ"
      },
      "execution_count": 49,
      "outputs": []
    },
    {
      "cell_type": "code",
      "source": [
        "x+y"
      ],
      "metadata": {
        "colab": {
          "base_uri": "https://localhost:8080/",
          "height": 34
        },
        "id": "8Lcx5at1sfYh",
        "outputId": "7a5cba7e-ef76-4fc4-b514-0469f94c35a9"
      },
      "execution_count": 50,
      "outputs": [
        {
          "output_type": "display_data",
          "data": {
            "text/html": [
              "<style>\n",
              ".list-inline {list-style: none; margin:0; padding: 0}\n",
              ".list-inline>li {display: inline-block}\n",
              ".list-inline>li:not(:last-child)::after {content: \"\\00b7\"; padding: 0 .5ex}\n",
              "</style>\n",
              "<ol class=list-inline><li>3</li><li>5</li><li>7</li><li>9</li><li>11</li></ol>\n"
            ],
            "text/markdown": "1. 3\n2. 5\n3. 7\n4. 9\n5. 11\n\n\n",
            "text/latex": "\\begin{enumerate*}\n\\item 3\n\\item 5\n\\item 7\n\\item 9\n\\item 11\n\\end{enumerate*}\n",
            "text/plain": [
              "[1]  3  5  7  9 11"
            ]
          },
          "metadata": {}
        }
      ]
    },
    {
      "cell_type": "code",
      "source": [
        "x*y"
      ],
      "metadata": {
        "colab": {
          "base_uri": "https://localhost:8080/",
          "height": 34
        },
        "id": "9TBWHVSPsgQU",
        "outputId": "32ad7a36-49ea-473a-e2ce-f618f0e608e5"
      },
      "execution_count": 51,
      "outputs": [
        {
          "output_type": "display_data",
          "data": {
            "text/html": [
              "<style>\n",
              ".list-inline {list-style: none; margin:0; padding: 0}\n",
              ".list-inline>li {display: inline-block}\n",
              ".list-inline>li:not(:last-child)::after {content: \"\\00b7\"; padding: 0 .5ex}\n",
              "</style>\n",
              "<ol class=list-inline><li>2</li><li>6</li><li>12</li><li>20</li><li>30</li></ol>\n"
            ],
            "text/markdown": "1. 2\n2. 6\n3. 12\n4. 20\n5. 30\n\n\n",
            "text/latex": "\\begin{enumerate*}\n\\item 2\n\\item 6\n\\item 12\n\\item 20\n\\item 30\n\\end{enumerate*}\n",
            "text/plain": [
              "[1]  2  6 12 20 30"
            ]
          },
          "metadata": {}
        }
      ]
    },
    {
      "cell_type": "code",
      "source": [
        "sum(x)\n",
        "mean(x)\n",
        "var(x)\n",
        "sd(x)"
      ],
      "metadata": {
        "colab": {
          "base_uri": "https://localhost:8080/",
          "height": 86
        },
        "id": "IBurjpA9sk5A",
        "outputId": "17680af3-d109-4352-e60a-9fc0f2a2f81f"
      },
      "execution_count": 53,
      "outputs": [
        {
          "output_type": "display_data",
          "data": {
            "text/html": [
              "15"
            ],
            "text/markdown": "15",
            "text/latex": "15",
            "text/plain": [
              "[1] 15"
            ]
          },
          "metadata": {}
        },
        {
          "output_type": "display_data",
          "data": {
            "text/html": [
              "3"
            ],
            "text/markdown": "3",
            "text/latex": "3",
            "text/plain": [
              "[1] 3"
            ]
          },
          "metadata": {}
        },
        {
          "output_type": "display_data",
          "data": {
            "text/html": [
              "2.5"
            ],
            "text/markdown": "2.5",
            "text/latex": "2.5",
            "text/plain": [
              "[1] 2.5"
            ]
          },
          "metadata": {}
        },
        {
          "output_type": "display_data",
          "data": {
            "text/html": [
              "1.58113883008419"
            ],
            "text/markdown": "1.58113883008419",
            "text/latex": "1.58113883008419",
            "text/plain": [
              "[1] 1.581139"
            ]
          },
          "metadata": {}
        }
      ]
    },
    {
      "cell_type": "code",
      "source": [
        "y<-rnorm(100)   # \"Mean Squared Error\"\n",
        "yhat<-rnorm(100)"
      ],
      "metadata": {
        "id": "Lq0uP8pYsxOA"
      },
      "execution_count": 56,
      "outputs": []
    },
    {
      "cell_type": "code",
      "source": [
        "mean((y-yhat)**2)"
      ],
      "metadata": {
        "colab": {
          "base_uri": "https://localhost:8080/",
          "height": 34
        },
        "id": "79swpxditJsg",
        "outputId": "6de58d80-32e0-4c2b-b861-252a3714929e"
      },
      "execution_count": 58,
      "outputs": [
        {
          "output_type": "display_data",
          "data": {
            "text/html": [
              "2.05726127252098"
            ],
            "text/markdown": "2.05726127252098",
            "text/latex": "2.05726127252098",
            "text/plain": [
              "[1] 2.057261"
            ]
          },
          "metadata": {}
        }
      ]
    },
    {
      "cell_type": "code",
      "source": [
        "m<-matrix(1:6,nrow=3)\n",
        "m"
      ],
      "metadata": {
        "colab": {
          "base_uri": "https://localhost:8080/",
          "height": 198
        },
        "id": "ILWsTIf6tayl",
        "outputId": "589bd50d-bf7d-467e-a26d-9846634a64e6"
      },
      "execution_count": 73,
      "outputs": [
        {
          "output_type": "display_data",
          "data": {
            "text/html": [
              "<table class=\"dataframe\">\n",
              "<caption>A matrix: 3 × 2 of type int</caption>\n",
              "<tbody>\n",
              "\t<tr><td>1</td><td>4</td></tr>\n",
              "\t<tr><td>2</td><td>5</td></tr>\n",
              "\t<tr><td>3</td><td>6</td></tr>\n",
              "</tbody>\n",
              "</table>\n"
            ],
            "text/markdown": "\nA matrix: 3 × 2 of type int\n\n| 1 | 4 |\n| 2 | 5 |\n| 3 | 6 |\n\n",
            "text/latex": "A matrix: 3 × 2 of type int\n\\begin{tabular}{ll}\n\t 1 & 4\\\\\n\t 2 & 5\\\\\n\t 3 & 6\\\\\n\\end{tabular}\n",
            "text/plain": [
              "     [,1] [,2]\n",
              "[1,] 1    4   \n",
              "[2,] 2    5   \n",
              "[3,] 3    6   "
            ]
          },
          "metadata": {}
        }
      ]
    },
    {
      "cell_type": "code",
      "source": [
        "m<-matrix(1:6,nrow=3,byrow = TRUE)\n",
        "m"
      ],
      "metadata": {
        "colab": {
          "base_uri": "https://localhost:8080/",
          "height": 198
        },
        "id": "dbMolt4puOYa",
        "outputId": "e687618a-bd64-4a1c-cf7e-8d7784df0de7"
      },
      "execution_count": 76,
      "outputs": [
        {
          "output_type": "display_data",
          "data": {
            "text/html": [
              "<table class=\"dataframe\">\n",
              "<caption>A matrix: 3 × 2 of type int</caption>\n",
              "<tbody>\n",
              "\t<tr><td>1</td><td>2</td></tr>\n",
              "\t<tr><td>3</td><td>4</td></tr>\n",
              "\t<tr><td>5</td><td>6</td></tr>\n",
              "</tbody>\n",
              "</table>\n"
            ],
            "text/markdown": "\nA matrix: 3 × 2 of type int\n\n| 1 | 2 |\n| 3 | 4 |\n| 5 | 6 |\n\n",
            "text/latex": "A matrix: 3 × 2 of type int\n\\begin{tabular}{ll}\n\t 1 & 2\\\\\n\t 3 & 4\\\\\n\t 5 & 6\\\\\n\\end{tabular}\n",
            "text/plain": [
              "     [,1] [,2]\n",
              "[1,] 1    2   \n",
              "[2,] 3    4   \n",
              "[3,] 5    6   "
            ]
          },
          "metadata": {}
        }
      ]
    },
    {
      "cell_type": "code",
      "source": [
        "m<-matrix(1:12,nrow=3)\n",
        "m"
      ],
      "metadata": {
        "colab": {
          "base_uri": "https://localhost:8080/",
          "height": 146
        },
        "id": "ukRqyg5Wu-By",
        "outputId": "a93cff9a-e88c-41d1-f6d2-d1295f108c3b"
      },
      "execution_count": 78,
      "outputs": [
        {
          "output_type": "display_data",
          "data": {
            "text/html": [
              "<table class=\"dataframe\">\n",
              "<caption>A matrix: 3 × 4 of type int</caption>\n",
              "<tbody>\n",
              "\t<tr><td>1</td><td>4</td><td>7</td><td>10</td></tr>\n",
              "\t<tr><td>2</td><td>5</td><td>8</td><td>11</td></tr>\n",
              "\t<tr><td>3</td><td>6</td><td>9</td><td>12</td></tr>\n",
              "</tbody>\n",
              "</table>\n"
            ],
            "text/markdown": "\nA matrix: 3 × 4 of type int\n\n| 1 | 4 | 7 | 10 |\n| 2 | 5 | 8 | 11 |\n| 3 | 6 | 9 | 12 |\n\n",
            "text/latex": "A matrix: 3 × 4 of type int\n\\begin{tabular}{llll}\n\t 1 & 4 & 7 & 10\\\\\n\t 2 & 5 & 8 & 11\\\\\n\t 3 & 6 & 9 & 12\\\\\n\\end{tabular}\n",
            "text/plain": [
              "     [,1] [,2] [,3] [,4]\n",
              "[1,] 1    4    7    10  \n",
              "[2,] 2    5    8    11  \n",
              "[3,] 3    6    9    12  "
            ]
          },
          "metadata": {}
        }
      ]
    },
    {
      "cell_type": "code",
      "source": [
        "m[2,3]"
      ],
      "metadata": {
        "colab": {
          "base_uri": "https://localhost:8080/",
          "height": 34
        },
        "id": "AMJVEEhuvMLU",
        "outputId": "5e501409-07b4-4372-8297-b6c82051459a"
      },
      "execution_count": 79,
      "outputs": [
        {
          "output_type": "display_data",
          "data": {
            "text/html": [
              "8"
            ],
            "text/markdown": "8",
            "text/latex": "8",
            "text/plain": [
              "[1] 8"
            ]
          },
          "metadata": {}
        }
      ]
    },
    {
      "cell_type": "code",
      "source": [
        "m[2,]"
      ],
      "metadata": {
        "colab": {
          "base_uri": "https://localhost:8080/",
          "height": 34
        },
        "id": "RUOnNgFdvWNt",
        "outputId": "f94694ce-425b-40df-d4d9-55a4be1b2add"
      },
      "execution_count": 80,
      "outputs": [
        {
          "output_type": "display_data",
          "data": {
            "text/html": [
              "<style>\n",
              ".list-inline {list-style: none; margin:0; padding: 0}\n",
              ".list-inline>li {display: inline-block}\n",
              ".list-inline>li:not(:last-child)::after {content: \"\\00b7\"; padding: 0 .5ex}\n",
              "</style>\n",
              "<ol class=list-inline><li>2</li><li>5</li><li>8</li><li>11</li></ol>\n"
            ],
            "text/markdown": "1. 2\n2. 5\n3. 8\n4. 11\n\n\n",
            "text/latex": "\\begin{enumerate*}\n\\item 2\n\\item 5\n\\item 8\n\\item 11\n\\end{enumerate*}\n",
            "text/plain": [
              "[1]  2  5  8 11"
            ]
          },
          "metadata": {}
        }
      ]
    },
    {
      "cell_type": "code",
      "source": [
        "m[,3]"
      ],
      "metadata": {
        "colab": {
          "base_uri": "https://localhost:8080/",
          "height": 34
        },
        "id": "o3xX6psIvYez",
        "outputId": "c3ac896f-0836-4439-e81b-21614475d08f"
      },
      "execution_count": 81,
      "outputs": [
        {
          "output_type": "display_data",
          "data": {
            "text/html": [
              "<style>\n",
              ".list-inline {list-style: none; margin:0; padding: 0}\n",
              ".list-inline>li {display: inline-block}\n",
              ".list-inline>li:not(:last-child)::after {content: \"\\00b7\"; padding: 0 .5ex}\n",
              "</style>\n",
              "<ol class=list-inline><li>7</li><li>8</li><li>9</li></ol>\n"
            ],
            "text/markdown": "1. 7\n2. 8\n3. 9\n\n\n",
            "text/latex": "\\begin{enumerate*}\n\\item 7\n\\item 8\n\\item 9\n\\end{enumerate*}\n",
            "text/plain": [
              "[1] 7 8 9"
            ]
          },
          "metadata": {}
        }
      ]
    },
    {
      "cell_type": "code",
      "source": [
        "m[,2:4]"
      ],
      "metadata": {
        "colab": {
          "base_uri": "https://localhost:8080/",
          "height": 163
        },
        "id": "00GfjT_QvdPF",
        "outputId": "e9b7ce02-1260-4259-a81d-af116a856d82"
      },
      "execution_count": 82,
      "outputs": [
        {
          "output_type": "display_data",
          "data": {
            "text/html": [
              "<table class=\"dataframe\">\n",
              "<caption>A matrix: 3 × 3 of type int</caption>\n",
              "<tbody>\n",
              "\t<tr><td>4</td><td>7</td><td>10</td></tr>\n",
              "\t<tr><td>5</td><td>8</td><td>11</td></tr>\n",
              "\t<tr><td>6</td><td>9</td><td>12</td></tr>\n",
              "</tbody>\n",
              "</table>\n"
            ],
            "text/markdown": "\nA matrix: 3 × 3 of type int\n\n| 4 | 7 | 10 |\n| 5 | 8 | 11 |\n| 6 | 9 | 12 |\n\n",
            "text/latex": "A matrix: 3 × 3 of type int\n\\begin{tabular}{lll}\n\t 4 & 7 & 10\\\\\n\t 5 & 8 & 11\\\\\n\t 6 & 9 & 12\\\\\n\\end{tabular}\n",
            "text/plain": [
              "     [,1] [,2] [,3]\n",
              "[1,] 4    7    10  \n",
              "[2,] 5    8    11  \n",
              "[3,] 6    9    12  "
            ]
          },
          "metadata": {}
        }
      ]
    },
    {
      "cell_type": "code",
      "source": [
        "m[2:3,3:4]"
      ],
      "metadata": {
        "colab": {
          "base_uri": "https://localhost:8080/",
          "height": 149
        },
        "id": "3tH08_YCvhZZ",
        "outputId": "c5b326f0-48b5-4433-82f4-99ffe7cb753e"
      },
      "execution_count": 83,
      "outputs": [
        {
          "output_type": "display_data",
          "data": {
            "text/html": [
              "<table class=\"dataframe\">\n",
              "<caption>A matrix: 2 × 2 of type int</caption>\n",
              "<tbody>\n",
              "\t<tr><td>8</td><td>11</td></tr>\n",
              "\t<tr><td>9</td><td>12</td></tr>\n",
              "</tbody>\n",
              "</table>\n"
            ],
            "text/markdown": "\nA matrix: 2 × 2 of type int\n\n| 8 | 11 |\n| 9 | 12 |\n\n",
            "text/latex": "A matrix: 2 × 2 of type int\n\\begin{tabular}{ll}\n\t 8 & 11\\\\\n\t 9 & 12\\\\\n\\end{tabular}\n",
            "text/plain": [
              "     [,1] [,2]\n",
              "[1,] 8    11  \n",
              "[2,] 9    12  "
            ]
          },
          "metadata": {}
        }
      ]
    },
    {
      "cell_type": "code",
      "source": [
        "m[m[,2]>=5,4] # 2. ve 3. satırın 4. sütununu çekicek"
      ],
      "metadata": {
        "colab": {
          "base_uri": "https://localhost:8080/",
          "height": 34
        },
        "id": "ayPdrGCbvo6W",
        "outputId": "30988d55-7458-4077-8e98-604b1976c185"
      },
      "execution_count": 84,
      "outputs": [
        {
          "output_type": "display_data",
          "data": {
            "text/html": [
              "<style>\n",
              ".list-inline {list-style: none; margin:0; padding: 0}\n",
              ".list-inline>li {display: inline-block}\n",
              ".list-inline>li:not(:last-child)::after {content: \"\\00b7\"; padding: 0 .5ex}\n",
              "</style>\n",
              "<ol class=list-inline><li>11</li><li>12</li></ol>\n"
            ],
            "text/markdown": "1. 11\n2. 12\n\n\n",
            "text/latex": "\\begin{enumerate*}\n\\item 11\n\\item 12\n\\end{enumerate*}\n",
            "text/plain": [
              "[1] 11 12"
            ]
          },
          "metadata": {}
        }
      ]
    },
    {
      "cell_type": "code",
      "source": [
        "gender<- ifelse(runif(10)>0.5,\"male\",\"female\")\n",
        " # rastgele 10 sayı ürettik.sayılar 0.5' den büyükse male değilse female"
      ],
      "metadata": {
        "id": "E47wgN8Fv93y"
      },
      "execution_count": 86,
      "outputs": []
    },
    {
      "cell_type": "code",
      "source": [
        "gender"
      ],
      "metadata": {
        "colab": {
          "base_uri": "https://localhost:8080/",
          "height": 34
        },
        "id": "Wx7RDnYdx7oO",
        "outputId": "9bfe0463-efaf-484c-ff00-aa084c9c36b5"
      },
      "execution_count": 87,
      "outputs": [
        {
          "output_type": "display_data",
          "data": {
            "text/html": [
              "<style>\n",
              ".list-inline {list-style: none; margin:0; padding: 0}\n",
              ".list-inline>li {display: inline-block}\n",
              ".list-inline>li:not(:last-child)::after {content: \"\\00b7\"; padding: 0 .5ex}\n",
              "</style>\n",
              "<ol class=list-inline><li>'female'</li><li>'female'</li><li>'male'</li><li>'male'</li><li>'female'</li><li>'female'</li><li>'female'</li><li>'female'</li><li>'female'</li><li>'male'</li></ol>\n"
            ],
            "text/markdown": "1. 'female'\n2. 'female'\n3. 'male'\n4. 'male'\n5. 'female'\n6. 'female'\n7. 'female'\n8. 'female'\n9. 'female'\n10. 'male'\n\n\n",
            "text/latex": "\\begin{enumerate*}\n\\item 'female'\n\\item 'female'\n\\item 'male'\n\\item 'male'\n\\item 'female'\n\\item 'female'\n\\item 'female'\n\\item 'female'\n\\item 'female'\n\\item 'male'\n\\end{enumerate*}\n",
            "text/plain": [
              " [1] \"female\" \"female\" \"male\"   \"male\"   \"female\" \"female\" \"female\" \"female\"\n",
              " [9] \"female\" \"male\"  "
            ]
          },
          "metadata": {}
        }
      ]
    },
    {
      "cell_type": "code",
      "source": [
        "gender_factor<-factor(gender)\n",
        "gender_factor"
      ],
      "metadata": {
        "colab": {
          "base_uri": "https://localhost:8080/",
          "height": 52
        },
        "id": "Ua3aLdaXyNBn",
        "outputId": "c6c1f88a-11bb-4fc2-f97f-76bc5ca90fb8"
      },
      "execution_count": 89,
      "outputs": [
        {
          "output_type": "display_data",
          "data": {
            "text/html": [
              "<style>\n",
              ".list-inline {list-style: none; margin:0; padding: 0}\n",
              ".list-inline>li {display: inline-block}\n",
              ".list-inline>li:not(:last-child)::after {content: \"\\00b7\"; padding: 0 .5ex}\n",
              "</style>\n",
              "<ol class=list-inline><li>female</li><li>female</li><li>male</li><li>male</li><li>female</li><li>female</li><li>female</li><li>female</li><li>female</li><li>male</li></ol>\n",
              "\n",
              "<details>\n",
              "\t<summary style=display:list-item;cursor:pointer>\n",
              "\t\t<strong>Levels</strong>:\n",
              "\t</summary>\n",
              "\t<style>\n",
              "\t.list-inline {list-style: none; margin:0; padding: 0}\n",
              "\t.list-inline>li {display: inline-block}\n",
              "\t.list-inline>li:not(:last-child)::after {content: \"\\00b7\"; padding: 0 .5ex}\n",
              "\t</style>\n",
              "\t<ol class=list-inline><li>'female'</li><li>'male'</li></ol>\n",
              "</details>"
            ],
            "text/markdown": "1. female\n2. female\n3. male\n4. male\n5. female\n6. female\n7. female\n8. female\n9. female\n10. male\n\n\n\n**Levels**: 1. 'female'\n2. 'male'\n\n\n",
            "text/latex": "\\begin{enumerate*}\n\\item female\n\\item female\n\\item male\n\\item male\n\\item female\n\\item female\n\\item female\n\\item female\n\\item female\n\\item male\n\\end{enumerate*}\n\n\\emph{Levels}: \\begin{enumerate*}\n\\item 'female'\n\\item 'male'\n\\end{enumerate*}\n",
            "text/plain": [
              " [1] female female male   male   female female female female female male  \n",
              "Levels: female male"
            ]
          },
          "metadata": {}
        }
      ]
    },
    {
      "cell_type": "code",
      "source": [
        "grades<-sample(c(\"A\",\"B\",\"C\",\"D\",\"E\"), size = 20,replace = TRUE)\n",
        "grades"
      ],
      "metadata": {
        "colab": {
          "base_uri": "https://localhost:8080/",
          "height": 34
        },
        "id": "_81K8qbNyXbD",
        "outputId": "f85fbd48-4624-4f96-f83d-ced46036a7bf"
      },
      "execution_count": 91,
      "outputs": [
        {
          "output_type": "display_data",
          "data": {
            "text/html": [
              "<style>\n",
              ".list-inline {list-style: none; margin:0; padding: 0}\n",
              ".list-inline>li {display: inline-block}\n",
              ".list-inline>li:not(:last-child)::after {content: \"\\00b7\"; padding: 0 .5ex}\n",
              "</style>\n",
              "<ol class=list-inline><li>'D'</li><li>'B'</li><li>'E'</li><li>'A'</li><li>'C'</li><li>'B'</li><li>'B'</li><li>'E'</li><li>'C'</li><li>'A'</li><li>'B'</li><li>'B'</li><li>'C'</li><li>'B'</li><li>'C'</li><li>'B'</li><li>'E'</li><li>'C'</li><li>'A'</li><li>'A'</li></ol>\n"
            ],
            "text/markdown": "1. 'D'\n2. 'B'\n3. 'E'\n4. 'A'\n5. 'C'\n6. 'B'\n7. 'B'\n8. 'E'\n9. 'C'\n10. 'A'\n11. 'B'\n12. 'B'\n13. 'C'\n14. 'B'\n15. 'C'\n16. 'B'\n17. 'E'\n18. 'C'\n19. 'A'\n20. 'A'\n\n\n",
            "text/latex": "\\begin{enumerate*}\n\\item 'D'\n\\item 'B'\n\\item 'E'\n\\item 'A'\n\\item 'C'\n\\item 'B'\n\\item 'B'\n\\item 'E'\n\\item 'C'\n\\item 'A'\n\\item 'B'\n\\item 'B'\n\\item 'C'\n\\item 'B'\n\\item 'C'\n\\item 'B'\n\\item 'E'\n\\item 'C'\n\\item 'A'\n\\item 'A'\n\\end{enumerate*}\n",
            "text/plain": [
              " [1] \"D\" \"B\" \"E\" \"A\" \"C\" \"B\" \"B\" \"E\" \"C\" \"A\" \"B\" \"B\" \"C\" \"B\" \"C\" \"B\" \"E\" \"C\" \"A\"\n",
              "[20] \"A\""
            ]
          },
          "metadata": {}
        }
      ]
    },
    {
      "cell_type": "code",
      "source": [
        "gender_factor<-factor(grades,ordered = TRUE)\n",
        "gender_factor"
      ],
      "metadata": {
        "colab": {
          "base_uri": "https://localhost:8080/",
          "height": 52
        },
        "id": "75dNdZfNy62X",
        "outputId": "8167fbd5-9284-49a8-e8b6-e1c33bd0a330"
      },
      "execution_count": 94,
      "outputs": [
        {
          "output_type": "display_data",
          "data": {
            "text/html": [
              "<style>\n",
              ".list-inline {list-style: none; margin:0; padding: 0}\n",
              ".list-inline>li {display: inline-block}\n",
              ".list-inline>li:not(:last-child)::after {content: \"\\00b7\"; padding: 0 .5ex}\n",
              "</style>\n",
              "<ol class=list-inline><li>D</li><li>B</li><li>E</li><li>A</li><li>C</li><li>B</li><li>B</li><li>E</li><li>C</li><li>A</li><li>B</li><li>B</li><li>C</li><li>B</li><li>C</li><li>B</li><li>E</li><li>C</li><li>A</li><li>A</li></ol>\n",
              "\n",
              "<details>\n",
              "\t<summary style=display:list-item;cursor:pointer>\n",
              "\t\t<strong>Levels</strong>:\n",
              "\t</summary>\n",
              "\t<style>\n",
              "\t.list-inline {list-style: none; margin:0; padding: 0}\n",
              "\t.list-inline>li {display: inline-block}\n",
              "\t.list-inline>li:not(:last-child)::after {content: \"\\00b7\"; padding: 0 .5ex}\n",
              "\t</style>\n",
              "\t<ol class=list-inline><li>'A'</li><li>'B'</li><li>'C'</li><li>'D'</li><li>'E'</li></ol>\n",
              "</details>"
            ],
            "text/markdown": "1. D\n2. B\n3. E\n4. A\n5. C\n6. B\n7. B\n8. E\n9. C\n10. A\n11. B\n12. B\n13. C\n14. B\n15. C\n16. B\n17. E\n18. C\n19. A\n20. A\n\n\n\n**Levels**: 1. 'A'\n2. 'B'\n3. 'C'\n4. 'D'\n5. 'E'\n\n\n",
            "text/latex": "\\begin{enumerate*}\n\\item D\n\\item B\n\\item E\n\\item A\n\\item C\n\\item B\n\\item B\n\\item E\n\\item C\n\\item A\n\\item B\n\\item B\n\\item C\n\\item B\n\\item C\n\\item B\n\\item E\n\\item C\n\\item A\n\\item A\n\\end{enumerate*}\n\n\\emph{Levels}: \\begin{enumerate*}\n\\item 'A'\n\\item 'B'\n\\item 'C'\n\\item 'D'\n\\item 'E'\n\\end{enumerate*}\n",
            "text/plain": [
              " [1] D B E A C B B E C A B B C B C B E C A A\n",
              "Levels: A < B < C < D < E"
            ]
          },
          "metadata": {}
        }
      ]
    },
    {
      "cell_type": "code",
      "source": [
        "mtcars"
      ],
      "metadata": {
        "colab": {
          "base_uri": "https://localhost:8080/",
          "height": 1000
        },
        "id": "vvfTKUbIzDM5",
        "outputId": "701ab89e-7f62-4501-9edb-ceaaf67907a6"
      },
      "execution_count": 95,
      "outputs": [
        {
          "output_type": "display_data",
          "data": {
            "text/html": [
              "<table class=\"dataframe\">\n",
              "<caption>A data.frame: 32 × 11</caption>\n",
              "<thead>\n",
              "\t<tr><th></th><th scope=col>mpg</th><th scope=col>cyl</th><th scope=col>disp</th><th scope=col>hp</th><th scope=col>drat</th><th scope=col>wt</th><th scope=col>qsec</th><th scope=col>vs</th><th scope=col>am</th><th scope=col>gear</th><th scope=col>carb</th></tr>\n",
              "\t<tr><th></th><th scope=col>&lt;dbl&gt;</th><th scope=col>&lt;dbl&gt;</th><th scope=col>&lt;dbl&gt;</th><th scope=col>&lt;dbl&gt;</th><th scope=col>&lt;dbl&gt;</th><th scope=col>&lt;dbl&gt;</th><th scope=col>&lt;dbl&gt;</th><th scope=col>&lt;dbl&gt;</th><th scope=col>&lt;dbl&gt;</th><th scope=col>&lt;dbl&gt;</th><th scope=col>&lt;dbl&gt;</th></tr>\n",
              "</thead>\n",
              "<tbody>\n",
              "\t<tr><th scope=row>Mazda RX4</th><td>21.0</td><td>6</td><td>160.0</td><td>110</td><td>3.90</td><td>2.620</td><td>16.46</td><td>0</td><td>1</td><td>4</td><td>4</td></tr>\n",
              "\t<tr><th scope=row>Mazda RX4 Wag</th><td>21.0</td><td>6</td><td>160.0</td><td>110</td><td>3.90</td><td>2.875</td><td>17.02</td><td>0</td><td>1</td><td>4</td><td>4</td></tr>\n",
              "\t<tr><th scope=row>Datsun 710</th><td>22.8</td><td>4</td><td>108.0</td><td> 93</td><td>3.85</td><td>2.320</td><td>18.61</td><td>1</td><td>1</td><td>4</td><td>1</td></tr>\n",
              "\t<tr><th scope=row>Hornet 4 Drive</th><td>21.4</td><td>6</td><td>258.0</td><td>110</td><td>3.08</td><td>3.215</td><td>19.44</td><td>1</td><td>0</td><td>3</td><td>1</td></tr>\n",
              "\t<tr><th scope=row>Hornet Sportabout</th><td>18.7</td><td>8</td><td>360.0</td><td>175</td><td>3.15</td><td>3.440</td><td>17.02</td><td>0</td><td>0</td><td>3</td><td>2</td></tr>\n",
              "\t<tr><th scope=row>Valiant</th><td>18.1</td><td>6</td><td>225.0</td><td>105</td><td>2.76</td><td>3.460</td><td>20.22</td><td>1</td><td>0</td><td>3</td><td>1</td></tr>\n",
              "\t<tr><th scope=row>Duster 360</th><td>14.3</td><td>8</td><td>360.0</td><td>245</td><td>3.21</td><td>3.570</td><td>15.84</td><td>0</td><td>0</td><td>3</td><td>4</td></tr>\n",
              "\t<tr><th scope=row>Merc 240D</th><td>24.4</td><td>4</td><td>146.7</td><td> 62</td><td>3.69</td><td>3.190</td><td>20.00</td><td>1</td><td>0</td><td>4</td><td>2</td></tr>\n",
              "\t<tr><th scope=row>Merc 230</th><td>22.8</td><td>4</td><td>140.8</td><td> 95</td><td>3.92</td><td>3.150</td><td>22.90</td><td>1</td><td>0</td><td>4</td><td>2</td></tr>\n",
              "\t<tr><th scope=row>Merc 280</th><td>19.2</td><td>6</td><td>167.6</td><td>123</td><td>3.92</td><td>3.440</td><td>18.30</td><td>1</td><td>0</td><td>4</td><td>4</td></tr>\n",
              "\t<tr><th scope=row>Merc 280C</th><td>17.8</td><td>6</td><td>167.6</td><td>123</td><td>3.92</td><td>3.440</td><td>18.90</td><td>1</td><td>0</td><td>4</td><td>4</td></tr>\n",
              "\t<tr><th scope=row>Merc 450SE</th><td>16.4</td><td>8</td><td>275.8</td><td>180</td><td>3.07</td><td>4.070</td><td>17.40</td><td>0</td><td>0</td><td>3</td><td>3</td></tr>\n",
              "\t<tr><th scope=row>Merc 450SL</th><td>17.3</td><td>8</td><td>275.8</td><td>180</td><td>3.07</td><td>3.730</td><td>17.60</td><td>0</td><td>0</td><td>3</td><td>3</td></tr>\n",
              "\t<tr><th scope=row>Merc 450SLC</th><td>15.2</td><td>8</td><td>275.8</td><td>180</td><td>3.07</td><td>3.780</td><td>18.00</td><td>0</td><td>0</td><td>3</td><td>3</td></tr>\n",
              "\t<tr><th scope=row>Cadillac Fleetwood</th><td>10.4</td><td>8</td><td>472.0</td><td>205</td><td>2.93</td><td>5.250</td><td>17.98</td><td>0</td><td>0</td><td>3</td><td>4</td></tr>\n",
              "\t<tr><th scope=row>Lincoln Continental</th><td>10.4</td><td>8</td><td>460.0</td><td>215</td><td>3.00</td><td>5.424</td><td>17.82</td><td>0</td><td>0</td><td>3</td><td>4</td></tr>\n",
              "\t<tr><th scope=row>Chrysler Imperial</th><td>14.7</td><td>8</td><td>440.0</td><td>230</td><td>3.23</td><td>5.345</td><td>17.42</td><td>0</td><td>0</td><td>3</td><td>4</td></tr>\n",
              "\t<tr><th scope=row>Fiat 128</th><td>32.4</td><td>4</td><td> 78.7</td><td> 66</td><td>4.08</td><td>2.200</td><td>19.47</td><td>1</td><td>1</td><td>4</td><td>1</td></tr>\n",
              "\t<tr><th scope=row>Honda Civic</th><td>30.4</td><td>4</td><td> 75.7</td><td> 52</td><td>4.93</td><td>1.615</td><td>18.52</td><td>1</td><td>1</td><td>4</td><td>2</td></tr>\n",
              "\t<tr><th scope=row>Toyota Corolla</th><td>33.9</td><td>4</td><td> 71.1</td><td> 65</td><td>4.22</td><td>1.835</td><td>19.90</td><td>1</td><td>1</td><td>4</td><td>1</td></tr>\n",
              "\t<tr><th scope=row>Toyota Corona</th><td>21.5</td><td>4</td><td>120.1</td><td> 97</td><td>3.70</td><td>2.465</td><td>20.01</td><td>1</td><td>0</td><td>3</td><td>1</td></tr>\n",
              "\t<tr><th scope=row>Dodge Challenger</th><td>15.5</td><td>8</td><td>318.0</td><td>150</td><td>2.76</td><td>3.520</td><td>16.87</td><td>0</td><td>0</td><td>3</td><td>2</td></tr>\n",
              "\t<tr><th scope=row>AMC Javelin</th><td>15.2</td><td>8</td><td>304.0</td><td>150</td><td>3.15</td><td>3.435</td><td>17.30</td><td>0</td><td>0</td><td>3</td><td>2</td></tr>\n",
              "\t<tr><th scope=row>Camaro Z28</th><td>13.3</td><td>8</td><td>350.0</td><td>245</td><td>3.73</td><td>3.840</td><td>15.41</td><td>0</td><td>0</td><td>3</td><td>4</td></tr>\n",
              "\t<tr><th scope=row>Pontiac Firebird</th><td>19.2</td><td>8</td><td>400.0</td><td>175</td><td>3.08</td><td>3.845</td><td>17.05</td><td>0</td><td>0</td><td>3</td><td>2</td></tr>\n",
              "\t<tr><th scope=row>Fiat X1-9</th><td>27.3</td><td>4</td><td> 79.0</td><td> 66</td><td>4.08</td><td>1.935</td><td>18.90</td><td>1</td><td>1</td><td>4</td><td>1</td></tr>\n",
              "\t<tr><th scope=row>Porsche 914-2</th><td>26.0</td><td>4</td><td>120.3</td><td> 91</td><td>4.43</td><td>2.140</td><td>16.70</td><td>0</td><td>1</td><td>5</td><td>2</td></tr>\n",
              "\t<tr><th scope=row>Lotus Europa</th><td>30.4</td><td>4</td><td> 95.1</td><td>113</td><td>3.77</td><td>1.513</td><td>16.90</td><td>1</td><td>1</td><td>5</td><td>2</td></tr>\n",
              "\t<tr><th scope=row>Ford Pantera L</th><td>15.8</td><td>8</td><td>351.0</td><td>264</td><td>4.22</td><td>3.170</td><td>14.50</td><td>0</td><td>1</td><td>5</td><td>4</td></tr>\n",
              "\t<tr><th scope=row>Ferrari Dino</th><td>19.7</td><td>6</td><td>145.0</td><td>175</td><td>3.62</td><td>2.770</td><td>15.50</td><td>0</td><td>1</td><td>5</td><td>6</td></tr>\n",
              "\t<tr><th scope=row>Maserati Bora</th><td>15.0</td><td>8</td><td>301.0</td><td>335</td><td>3.54</td><td>3.570</td><td>14.60</td><td>0</td><td>1</td><td>5</td><td>8</td></tr>\n",
              "\t<tr><th scope=row>Volvo 142E</th><td>21.4</td><td>4</td><td>121.0</td><td>109</td><td>4.11</td><td>2.780</td><td>18.60</td><td>1</td><td>1</td><td>4</td><td>2</td></tr>\n",
              "</tbody>\n",
              "</table>\n"
            ],
            "text/markdown": "\nA data.frame: 32 × 11\n\n| <!--/--> | mpg &lt;dbl&gt; | cyl &lt;dbl&gt; | disp &lt;dbl&gt; | hp &lt;dbl&gt; | drat &lt;dbl&gt; | wt &lt;dbl&gt; | qsec &lt;dbl&gt; | vs &lt;dbl&gt; | am &lt;dbl&gt; | gear &lt;dbl&gt; | carb &lt;dbl&gt; |\n|---|---|---|---|---|---|---|---|---|---|---|---|\n| Mazda RX4 | 21.0 | 6 | 160.0 | 110 | 3.90 | 2.620 | 16.46 | 0 | 1 | 4 | 4 |\n| Mazda RX4 Wag | 21.0 | 6 | 160.0 | 110 | 3.90 | 2.875 | 17.02 | 0 | 1 | 4 | 4 |\n| Datsun 710 | 22.8 | 4 | 108.0 |  93 | 3.85 | 2.320 | 18.61 | 1 | 1 | 4 | 1 |\n| Hornet 4 Drive | 21.4 | 6 | 258.0 | 110 | 3.08 | 3.215 | 19.44 | 1 | 0 | 3 | 1 |\n| Hornet Sportabout | 18.7 | 8 | 360.0 | 175 | 3.15 | 3.440 | 17.02 | 0 | 0 | 3 | 2 |\n| Valiant | 18.1 | 6 | 225.0 | 105 | 2.76 | 3.460 | 20.22 | 1 | 0 | 3 | 1 |\n| Duster 360 | 14.3 | 8 | 360.0 | 245 | 3.21 | 3.570 | 15.84 | 0 | 0 | 3 | 4 |\n| Merc 240D | 24.4 | 4 | 146.7 |  62 | 3.69 | 3.190 | 20.00 | 1 | 0 | 4 | 2 |\n| Merc 230 | 22.8 | 4 | 140.8 |  95 | 3.92 | 3.150 | 22.90 | 1 | 0 | 4 | 2 |\n| Merc 280 | 19.2 | 6 | 167.6 | 123 | 3.92 | 3.440 | 18.30 | 1 | 0 | 4 | 4 |\n| Merc 280C | 17.8 | 6 | 167.6 | 123 | 3.92 | 3.440 | 18.90 | 1 | 0 | 4 | 4 |\n| Merc 450SE | 16.4 | 8 | 275.8 | 180 | 3.07 | 4.070 | 17.40 | 0 | 0 | 3 | 3 |\n| Merc 450SL | 17.3 | 8 | 275.8 | 180 | 3.07 | 3.730 | 17.60 | 0 | 0 | 3 | 3 |\n| Merc 450SLC | 15.2 | 8 | 275.8 | 180 | 3.07 | 3.780 | 18.00 | 0 | 0 | 3 | 3 |\n| Cadillac Fleetwood | 10.4 | 8 | 472.0 | 205 | 2.93 | 5.250 | 17.98 | 0 | 0 | 3 | 4 |\n| Lincoln Continental | 10.4 | 8 | 460.0 | 215 | 3.00 | 5.424 | 17.82 | 0 | 0 | 3 | 4 |\n| Chrysler Imperial | 14.7 | 8 | 440.0 | 230 | 3.23 | 5.345 | 17.42 | 0 | 0 | 3 | 4 |\n| Fiat 128 | 32.4 | 4 |  78.7 |  66 | 4.08 | 2.200 | 19.47 | 1 | 1 | 4 | 1 |\n| Honda Civic | 30.4 | 4 |  75.7 |  52 | 4.93 | 1.615 | 18.52 | 1 | 1 | 4 | 2 |\n| Toyota Corolla | 33.9 | 4 |  71.1 |  65 | 4.22 | 1.835 | 19.90 | 1 | 1 | 4 | 1 |\n| Toyota Corona | 21.5 | 4 | 120.1 |  97 | 3.70 | 2.465 | 20.01 | 1 | 0 | 3 | 1 |\n| Dodge Challenger | 15.5 | 8 | 318.0 | 150 | 2.76 | 3.520 | 16.87 | 0 | 0 | 3 | 2 |\n| AMC Javelin | 15.2 | 8 | 304.0 | 150 | 3.15 | 3.435 | 17.30 | 0 | 0 | 3 | 2 |\n| Camaro Z28 | 13.3 | 8 | 350.0 | 245 | 3.73 | 3.840 | 15.41 | 0 | 0 | 3 | 4 |\n| Pontiac Firebird | 19.2 | 8 | 400.0 | 175 | 3.08 | 3.845 | 17.05 | 0 | 0 | 3 | 2 |\n| Fiat X1-9 | 27.3 | 4 |  79.0 |  66 | 4.08 | 1.935 | 18.90 | 1 | 1 | 4 | 1 |\n| Porsche 914-2 | 26.0 | 4 | 120.3 |  91 | 4.43 | 2.140 | 16.70 | 0 | 1 | 5 | 2 |\n| Lotus Europa | 30.4 | 4 |  95.1 | 113 | 3.77 | 1.513 | 16.90 | 1 | 1 | 5 | 2 |\n| Ford Pantera L | 15.8 | 8 | 351.0 | 264 | 4.22 | 3.170 | 14.50 | 0 | 1 | 5 | 4 |\n| Ferrari Dino | 19.7 | 6 | 145.0 | 175 | 3.62 | 2.770 | 15.50 | 0 | 1 | 5 | 6 |\n| Maserati Bora | 15.0 | 8 | 301.0 | 335 | 3.54 | 3.570 | 14.60 | 0 | 1 | 5 | 8 |\n| Volvo 142E | 21.4 | 4 | 121.0 | 109 | 4.11 | 2.780 | 18.60 | 1 | 1 | 4 | 2 |\n\n",
            "text/latex": "A data.frame: 32 × 11\n\\begin{tabular}{r|lllllllllll}\n  & mpg & cyl & disp & hp & drat & wt & qsec & vs & am & gear & carb\\\\\n  & <dbl> & <dbl> & <dbl> & <dbl> & <dbl> & <dbl> & <dbl> & <dbl> & <dbl> & <dbl> & <dbl>\\\\\n\\hline\n\tMazda RX4 & 21.0 & 6 & 160.0 & 110 & 3.90 & 2.620 & 16.46 & 0 & 1 & 4 & 4\\\\\n\tMazda RX4 Wag & 21.0 & 6 & 160.0 & 110 & 3.90 & 2.875 & 17.02 & 0 & 1 & 4 & 4\\\\\n\tDatsun 710 & 22.8 & 4 & 108.0 &  93 & 3.85 & 2.320 & 18.61 & 1 & 1 & 4 & 1\\\\\n\tHornet 4 Drive & 21.4 & 6 & 258.0 & 110 & 3.08 & 3.215 & 19.44 & 1 & 0 & 3 & 1\\\\\n\tHornet Sportabout & 18.7 & 8 & 360.0 & 175 & 3.15 & 3.440 & 17.02 & 0 & 0 & 3 & 2\\\\\n\tValiant & 18.1 & 6 & 225.0 & 105 & 2.76 & 3.460 & 20.22 & 1 & 0 & 3 & 1\\\\\n\tDuster 360 & 14.3 & 8 & 360.0 & 245 & 3.21 & 3.570 & 15.84 & 0 & 0 & 3 & 4\\\\\n\tMerc 240D & 24.4 & 4 & 146.7 &  62 & 3.69 & 3.190 & 20.00 & 1 & 0 & 4 & 2\\\\\n\tMerc 230 & 22.8 & 4 & 140.8 &  95 & 3.92 & 3.150 & 22.90 & 1 & 0 & 4 & 2\\\\\n\tMerc 280 & 19.2 & 6 & 167.6 & 123 & 3.92 & 3.440 & 18.30 & 1 & 0 & 4 & 4\\\\\n\tMerc 280C & 17.8 & 6 & 167.6 & 123 & 3.92 & 3.440 & 18.90 & 1 & 0 & 4 & 4\\\\\n\tMerc 450SE & 16.4 & 8 & 275.8 & 180 & 3.07 & 4.070 & 17.40 & 0 & 0 & 3 & 3\\\\\n\tMerc 450SL & 17.3 & 8 & 275.8 & 180 & 3.07 & 3.730 & 17.60 & 0 & 0 & 3 & 3\\\\\n\tMerc 450SLC & 15.2 & 8 & 275.8 & 180 & 3.07 & 3.780 & 18.00 & 0 & 0 & 3 & 3\\\\\n\tCadillac Fleetwood & 10.4 & 8 & 472.0 & 205 & 2.93 & 5.250 & 17.98 & 0 & 0 & 3 & 4\\\\\n\tLincoln Continental & 10.4 & 8 & 460.0 & 215 & 3.00 & 5.424 & 17.82 & 0 & 0 & 3 & 4\\\\\n\tChrysler Imperial & 14.7 & 8 & 440.0 & 230 & 3.23 & 5.345 & 17.42 & 0 & 0 & 3 & 4\\\\\n\tFiat 128 & 32.4 & 4 &  78.7 &  66 & 4.08 & 2.200 & 19.47 & 1 & 1 & 4 & 1\\\\\n\tHonda Civic & 30.4 & 4 &  75.7 &  52 & 4.93 & 1.615 & 18.52 & 1 & 1 & 4 & 2\\\\\n\tToyota Corolla & 33.9 & 4 &  71.1 &  65 & 4.22 & 1.835 & 19.90 & 1 & 1 & 4 & 1\\\\\n\tToyota Corona & 21.5 & 4 & 120.1 &  97 & 3.70 & 2.465 & 20.01 & 1 & 0 & 3 & 1\\\\\n\tDodge Challenger & 15.5 & 8 & 318.0 & 150 & 2.76 & 3.520 & 16.87 & 0 & 0 & 3 & 2\\\\\n\tAMC Javelin & 15.2 & 8 & 304.0 & 150 & 3.15 & 3.435 & 17.30 & 0 & 0 & 3 & 2\\\\\n\tCamaro Z28 & 13.3 & 8 & 350.0 & 245 & 3.73 & 3.840 & 15.41 & 0 & 0 & 3 & 4\\\\\n\tPontiac Firebird & 19.2 & 8 & 400.0 & 175 & 3.08 & 3.845 & 17.05 & 0 & 0 & 3 & 2\\\\\n\tFiat X1-9 & 27.3 & 4 &  79.0 &  66 & 4.08 & 1.935 & 18.90 & 1 & 1 & 4 & 1\\\\\n\tPorsche 914-2 & 26.0 & 4 & 120.3 &  91 & 4.43 & 2.140 & 16.70 & 0 & 1 & 5 & 2\\\\\n\tLotus Europa & 30.4 & 4 &  95.1 & 113 & 3.77 & 1.513 & 16.90 & 1 & 1 & 5 & 2\\\\\n\tFord Pantera L & 15.8 & 8 & 351.0 & 264 & 4.22 & 3.170 & 14.50 & 0 & 1 & 5 & 4\\\\\n\tFerrari Dino & 19.7 & 6 & 145.0 & 175 & 3.62 & 2.770 & 15.50 & 0 & 1 & 5 & 6\\\\\n\tMaserati Bora & 15.0 & 8 & 301.0 & 335 & 3.54 & 3.570 & 14.60 & 0 & 1 & 5 & 8\\\\\n\tVolvo 142E & 21.4 & 4 & 121.0 & 109 & 4.11 & 2.780 & 18.60 & 1 & 1 & 4 & 2\\\\\n\\end{tabular}\n",
            "text/plain": [
              "                    mpg  cyl disp  hp  drat wt    qsec  vs am gear carb\n",
              "Mazda RX4           21.0 6   160.0 110 3.90 2.620 16.46 0  1  4    4   \n",
              "Mazda RX4 Wag       21.0 6   160.0 110 3.90 2.875 17.02 0  1  4    4   \n",
              "Datsun 710          22.8 4   108.0  93 3.85 2.320 18.61 1  1  4    1   \n",
              "Hornet 4 Drive      21.4 6   258.0 110 3.08 3.215 19.44 1  0  3    1   \n",
              "Hornet Sportabout   18.7 8   360.0 175 3.15 3.440 17.02 0  0  3    2   \n",
              "Valiant             18.1 6   225.0 105 2.76 3.460 20.22 1  0  3    1   \n",
              "Duster 360          14.3 8   360.0 245 3.21 3.570 15.84 0  0  3    4   \n",
              "Merc 240D           24.4 4   146.7  62 3.69 3.190 20.00 1  0  4    2   \n",
              "Merc 230            22.8 4   140.8  95 3.92 3.150 22.90 1  0  4    2   \n",
              "Merc 280            19.2 6   167.6 123 3.92 3.440 18.30 1  0  4    4   \n",
              "Merc 280C           17.8 6   167.6 123 3.92 3.440 18.90 1  0  4    4   \n",
              "Merc 450SE          16.4 8   275.8 180 3.07 4.070 17.40 0  0  3    3   \n",
              "Merc 450SL          17.3 8   275.8 180 3.07 3.730 17.60 0  0  3    3   \n",
              "Merc 450SLC         15.2 8   275.8 180 3.07 3.780 18.00 0  0  3    3   \n",
              "Cadillac Fleetwood  10.4 8   472.0 205 2.93 5.250 17.98 0  0  3    4   \n",
              "Lincoln Continental 10.4 8   460.0 215 3.00 5.424 17.82 0  0  3    4   \n",
              "Chrysler Imperial   14.7 8   440.0 230 3.23 5.345 17.42 0  0  3    4   \n",
              "Fiat 128            32.4 4    78.7  66 4.08 2.200 19.47 1  1  4    1   \n",
              "Honda Civic         30.4 4    75.7  52 4.93 1.615 18.52 1  1  4    2   \n",
              "Toyota Corolla      33.9 4    71.1  65 4.22 1.835 19.90 1  1  4    1   \n",
              "Toyota Corona       21.5 4   120.1  97 3.70 2.465 20.01 1  0  3    1   \n",
              "Dodge Challenger    15.5 8   318.0 150 2.76 3.520 16.87 0  0  3    2   \n",
              "AMC Javelin         15.2 8   304.0 150 3.15 3.435 17.30 0  0  3    2   \n",
              "Camaro Z28          13.3 8   350.0 245 3.73 3.840 15.41 0  0  3    4   \n",
              "Pontiac Firebird    19.2 8   400.0 175 3.08 3.845 17.05 0  0  3    2   \n",
              "Fiat X1-9           27.3 4    79.0  66 4.08 1.935 18.90 1  1  4    1   \n",
              "Porsche 914-2       26.0 4   120.3  91 4.43 2.140 16.70 0  1  5    2   \n",
              "Lotus Europa        30.4 4    95.1 113 3.77 1.513 16.90 1  1  5    2   \n",
              "Ford Pantera L      15.8 8   351.0 264 4.22 3.170 14.50 0  1  5    4   \n",
              "Ferrari Dino        19.7 6   145.0 175 3.62 2.770 15.50 0  1  5    6   \n",
              "Maserati Bora       15.0 8   301.0 335 3.54 3.570 14.60 0  1  5    8   \n",
              "Volvo 142E          21.4 4   121.0 109 4.11 2.780 18.60 1  1  4    2   "
            ]
          },
          "metadata": {}
        }
      ]
    },
    {
      "cell_type": "code",
      "source": [
        "tail(mtcars)"
      ],
      "metadata": {
        "colab": {
          "base_uri": "https://localhost:8080/",
          "height": 286
        },
        "id": "H0-go2vwzhfL",
        "outputId": "6443b278-375f-49b4-9352-6046f2767cb9"
      },
      "execution_count": 96,
      "outputs": [
        {
          "output_type": "display_data",
          "data": {
            "text/html": [
              "<table class=\"dataframe\">\n",
              "<caption>A data.frame: 6 × 11</caption>\n",
              "<thead>\n",
              "\t<tr><th></th><th scope=col>mpg</th><th scope=col>cyl</th><th scope=col>disp</th><th scope=col>hp</th><th scope=col>drat</th><th scope=col>wt</th><th scope=col>qsec</th><th scope=col>vs</th><th scope=col>am</th><th scope=col>gear</th><th scope=col>carb</th></tr>\n",
              "\t<tr><th></th><th scope=col>&lt;dbl&gt;</th><th scope=col>&lt;dbl&gt;</th><th scope=col>&lt;dbl&gt;</th><th scope=col>&lt;dbl&gt;</th><th scope=col>&lt;dbl&gt;</th><th scope=col>&lt;dbl&gt;</th><th scope=col>&lt;dbl&gt;</th><th scope=col>&lt;dbl&gt;</th><th scope=col>&lt;dbl&gt;</th><th scope=col>&lt;dbl&gt;</th><th scope=col>&lt;dbl&gt;</th></tr>\n",
              "</thead>\n",
              "<tbody>\n",
              "\t<tr><th scope=row>Porsche 914-2</th><td>26.0</td><td>4</td><td>120.3</td><td> 91</td><td>4.43</td><td>2.140</td><td>16.7</td><td>0</td><td>1</td><td>5</td><td>2</td></tr>\n",
              "\t<tr><th scope=row>Lotus Europa</th><td>30.4</td><td>4</td><td> 95.1</td><td>113</td><td>3.77</td><td>1.513</td><td>16.9</td><td>1</td><td>1</td><td>5</td><td>2</td></tr>\n",
              "\t<tr><th scope=row>Ford Pantera L</th><td>15.8</td><td>8</td><td>351.0</td><td>264</td><td>4.22</td><td>3.170</td><td>14.5</td><td>0</td><td>1</td><td>5</td><td>4</td></tr>\n",
              "\t<tr><th scope=row>Ferrari Dino</th><td>19.7</td><td>6</td><td>145.0</td><td>175</td><td>3.62</td><td>2.770</td><td>15.5</td><td>0</td><td>1</td><td>5</td><td>6</td></tr>\n",
              "\t<tr><th scope=row>Maserati Bora</th><td>15.0</td><td>8</td><td>301.0</td><td>335</td><td>3.54</td><td>3.570</td><td>14.6</td><td>0</td><td>1</td><td>5</td><td>8</td></tr>\n",
              "\t<tr><th scope=row>Volvo 142E</th><td>21.4</td><td>4</td><td>121.0</td><td>109</td><td>4.11</td><td>2.780</td><td>18.6</td><td>1</td><td>1</td><td>4</td><td>2</td></tr>\n",
              "</tbody>\n",
              "</table>\n"
            ],
            "text/markdown": "\nA data.frame: 6 × 11\n\n| <!--/--> | mpg &lt;dbl&gt; | cyl &lt;dbl&gt; | disp &lt;dbl&gt; | hp &lt;dbl&gt; | drat &lt;dbl&gt; | wt &lt;dbl&gt; | qsec &lt;dbl&gt; | vs &lt;dbl&gt; | am &lt;dbl&gt; | gear &lt;dbl&gt; | carb &lt;dbl&gt; |\n|---|---|---|---|---|---|---|---|---|---|---|---|\n| Porsche 914-2 | 26.0 | 4 | 120.3 |  91 | 4.43 | 2.140 | 16.7 | 0 | 1 | 5 | 2 |\n| Lotus Europa | 30.4 | 4 |  95.1 | 113 | 3.77 | 1.513 | 16.9 | 1 | 1 | 5 | 2 |\n| Ford Pantera L | 15.8 | 8 | 351.0 | 264 | 4.22 | 3.170 | 14.5 | 0 | 1 | 5 | 4 |\n| Ferrari Dino | 19.7 | 6 | 145.0 | 175 | 3.62 | 2.770 | 15.5 | 0 | 1 | 5 | 6 |\n| Maserati Bora | 15.0 | 8 | 301.0 | 335 | 3.54 | 3.570 | 14.6 | 0 | 1 | 5 | 8 |\n| Volvo 142E | 21.4 | 4 | 121.0 | 109 | 4.11 | 2.780 | 18.6 | 1 | 1 | 4 | 2 |\n\n",
            "text/latex": "A data.frame: 6 × 11\n\\begin{tabular}{r|lllllllllll}\n  & mpg & cyl & disp & hp & drat & wt & qsec & vs & am & gear & carb\\\\\n  & <dbl> & <dbl> & <dbl> & <dbl> & <dbl> & <dbl> & <dbl> & <dbl> & <dbl> & <dbl> & <dbl>\\\\\n\\hline\n\tPorsche 914-2 & 26.0 & 4 & 120.3 &  91 & 4.43 & 2.140 & 16.7 & 0 & 1 & 5 & 2\\\\\n\tLotus Europa & 30.4 & 4 &  95.1 & 113 & 3.77 & 1.513 & 16.9 & 1 & 1 & 5 & 2\\\\\n\tFord Pantera L & 15.8 & 8 & 351.0 & 264 & 4.22 & 3.170 & 14.5 & 0 & 1 & 5 & 4\\\\\n\tFerrari Dino & 19.7 & 6 & 145.0 & 175 & 3.62 & 2.770 & 15.5 & 0 & 1 & 5 & 6\\\\\n\tMaserati Bora & 15.0 & 8 & 301.0 & 335 & 3.54 & 3.570 & 14.6 & 0 & 1 & 5 & 8\\\\\n\tVolvo 142E & 21.4 & 4 & 121.0 & 109 & 4.11 & 2.780 & 18.6 & 1 & 1 & 4 & 2\\\\\n\\end{tabular}\n",
            "text/plain": [
              "               mpg  cyl disp  hp  drat wt    qsec vs am gear carb\n",
              "Porsche 914-2  26.0 4   120.3  91 4.43 2.140 16.7 0  1  5    2   \n",
              "Lotus Europa   30.4 4    95.1 113 3.77 1.513 16.9 1  1  5    2   \n",
              "Ford Pantera L 15.8 8   351.0 264 4.22 3.170 14.5 0  1  5    4   \n",
              "Ferrari Dino   19.7 6   145.0 175 3.62 2.770 15.5 0  1  5    6   \n",
              "Maserati Bora  15.0 8   301.0 335 3.54 3.570 14.6 0  1  5    8   \n",
              "Volvo 142E     21.4 4   121.0 109 4.11 2.780 18.6 1  1  4    2   "
            ]
          },
          "metadata": {}
        }
      ]
    },
    {
      "cell_type": "code",
      "source": [
        "str(mtcars)"
      ],
      "metadata": {
        "colab": {
          "base_uri": "https://localhost:8080/"
        },
        "id": "wbz898vVzwYJ",
        "outputId": "9f8caf1d-d569-42ed-f16f-a3a544a56db1"
      },
      "execution_count": 97,
      "outputs": [
        {
          "output_type": "stream",
          "name": "stdout",
          "text": [
            "'data.frame':\t32 obs. of  11 variables:\n",
            " $ mpg : num  21 21 22.8 21.4 18.7 18.1 14.3 24.4 22.8 19.2 ...\n",
            " $ cyl : num  6 6 4 6 8 6 8 4 4 6 ...\n",
            " $ disp: num  160 160 108 258 360 ...\n",
            " $ hp  : num  110 110 93 110 175 105 245 62 95 123 ...\n",
            " $ drat: num  3.9 3.9 3.85 3.08 3.15 2.76 3.21 3.69 3.92 3.92 ...\n",
            " $ wt  : num  2.62 2.88 2.32 3.21 3.44 ...\n",
            " $ qsec: num  16.5 17 18.6 19.4 17 ...\n",
            " $ vs  : num  0 0 1 1 0 1 0 1 1 1 ...\n",
            " $ am  : num  1 1 1 0 0 0 0 0 0 0 ...\n",
            " $ gear: num  4 4 4 3 3 3 3 4 4 4 ...\n",
            " $ carb: num  4 4 1 1 2 1 4 2 2 4 ...\n"
          ]
        }
      ]
    },
    {
      "cell_type": "code",
      "source": [
        "mtcars[1:5,2:4]"
      ],
      "metadata": {
        "colab": {
          "base_uri": "https://localhost:8080/",
          "height": 255
        },
        "id": "w5BE1vMpz3xC",
        "outputId": "d6aefc7c-65bd-4e97-dea1-30bd1b837c15"
      },
      "execution_count": 98,
      "outputs": [
        {
          "output_type": "display_data",
          "data": {
            "text/html": [
              "<table class=\"dataframe\">\n",
              "<caption>A data.frame: 5 × 3</caption>\n",
              "<thead>\n",
              "\t<tr><th></th><th scope=col>cyl</th><th scope=col>disp</th><th scope=col>hp</th></tr>\n",
              "\t<tr><th></th><th scope=col>&lt;dbl&gt;</th><th scope=col>&lt;dbl&gt;</th><th scope=col>&lt;dbl&gt;</th></tr>\n",
              "</thead>\n",
              "<tbody>\n",
              "\t<tr><th scope=row>Mazda RX4</th><td>6</td><td>160</td><td>110</td></tr>\n",
              "\t<tr><th scope=row>Mazda RX4 Wag</th><td>6</td><td>160</td><td>110</td></tr>\n",
              "\t<tr><th scope=row>Datsun 710</th><td>4</td><td>108</td><td> 93</td></tr>\n",
              "\t<tr><th scope=row>Hornet 4 Drive</th><td>6</td><td>258</td><td>110</td></tr>\n",
              "\t<tr><th scope=row>Hornet Sportabout</th><td>8</td><td>360</td><td>175</td></tr>\n",
              "</tbody>\n",
              "</table>\n"
            ],
            "text/markdown": "\nA data.frame: 5 × 3\n\n| <!--/--> | cyl &lt;dbl&gt; | disp &lt;dbl&gt; | hp &lt;dbl&gt; |\n|---|---|---|---|\n| Mazda RX4 | 6 | 160 | 110 |\n| Mazda RX4 Wag | 6 | 160 | 110 |\n| Datsun 710 | 4 | 108 |  93 |\n| Hornet 4 Drive | 6 | 258 | 110 |\n| Hornet Sportabout | 8 | 360 | 175 |\n\n",
            "text/latex": "A data.frame: 5 × 3\n\\begin{tabular}{r|lll}\n  & cyl & disp & hp\\\\\n  & <dbl> & <dbl> & <dbl>\\\\\n\\hline\n\tMazda RX4 & 6 & 160 & 110\\\\\n\tMazda RX4 Wag & 6 & 160 & 110\\\\\n\tDatsun 710 & 4 & 108 &  93\\\\\n\tHornet 4 Drive & 6 & 258 & 110\\\\\n\tHornet Sportabout & 8 & 360 & 175\\\\\n\\end{tabular}\n",
            "text/plain": [
              "                  cyl disp hp \n",
              "Mazda RX4         6   160  110\n",
              "Mazda RX4 Wag     6   160  110\n",
              "Datsun 710        4   108   93\n",
              "Hornet 4 Drive    6   258  110\n",
              "Hornet Sportabout 8   360  175"
            ]
          },
          "metadata": {}
        }
      ]
    },
    {
      "cell_type": "code",
      "source": [
        "mtcars[\"mpg\"]"
      ],
      "metadata": {
        "colab": {
          "base_uri": "https://localhost:8080/",
          "height": 1000
        },
        "id": "9nCmjCA10HWR",
        "outputId": "3b4e38d1-c6fc-4a7e-a9a5-b1d92eca56c3"
      },
      "execution_count": 99,
      "outputs": [
        {
          "output_type": "display_data",
          "data": {
            "text/html": [
              "<table class=\"dataframe\">\n",
              "<caption>A data.frame: 32 × 1</caption>\n",
              "<thead>\n",
              "\t<tr><th></th><th scope=col>mpg</th></tr>\n",
              "\t<tr><th></th><th scope=col>&lt;dbl&gt;</th></tr>\n",
              "</thead>\n",
              "<tbody>\n",
              "\t<tr><th scope=row>Mazda RX4</th><td>21.0</td></tr>\n",
              "\t<tr><th scope=row>Mazda RX4 Wag</th><td>21.0</td></tr>\n",
              "\t<tr><th scope=row>Datsun 710</th><td>22.8</td></tr>\n",
              "\t<tr><th scope=row>Hornet 4 Drive</th><td>21.4</td></tr>\n",
              "\t<tr><th scope=row>Hornet Sportabout</th><td>18.7</td></tr>\n",
              "\t<tr><th scope=row>Valiant</th><td>18.1</td></tr>\n",
              "\t<tr><th scope=row>Duster 360</th><td>14.3</td></tr>\n",
              "\t<tr><th scope=row>Merc 240D</th><td>24.4</td></tr>\n",
              "\t<tr><th scope=row>Merc 230</th><td>22.8</td></tr>\n",
              "\t<tr><th scope=row>Merc 280</th><td>19.2</td></tr>\n",
              "\t<tr><th scope=row>Merc 280C</th><td>17.8</td></tr>\n",
              "\t<tr><th scope=row>Merc 450SE</th><td>16.4</td></tr>\n",
              "\t<tr><th scope=row>Merc 450SL</th><td>17.3</td></tr>\n",
              "\t<tr><th scope=row>Merc 450SLC</th><td>15.2</td></tr>\n",
              "\t<tr><th scope=row>Cadillac Fleetwood</th><td>10.4</td></tr>\n",
              "\t<tr><th scope=row>Lincoln Continental</th><td>10.4</td></tr>\n",
              "\t<tr><th scope=row>Chrysler Imperial</th><td>14.7</td></tr>\n",
              "\t<tr><th scope=row>Fiat 128</th><td>32.4</td></tr>\n",
              "\t<tr><th scope=row>Honda Civic</th><td>30.4</td></tr>\n",
              "\t<tr><th scope=row>Toyota Corolla</th><td>33.9</td></tr>\n",
              "\t<tr><th scope=row>Toyota Corona</th><td>21.5</td></tr>\n",
              "\t<tr><th scope=row>Dodge Challenger</th><td>15.5</td></tr>\n",
              "\t<tr><th scope=row>AMC Javelin</th><td>15.2</td></tr>\n",
              "\t<tr><th scope=row>Camaro Z28</th><td>13.3</td></tr>\n",
              "\t<tr><th scope=row>Pontiac Firebird</th><td>19.2</td></tr>\n",
              "\t<tr><th scope=row>Fiat X1-9</th><td>27.3</td></tr>\n",
              "\t<tr><th scope=row>Porsche 914-2</th><td>26.0</td></tr>\n",
              "\t<tr><th scope=row>Lotus Europa</th><td>30.4</td></tr>\n",
              "\t<tr><th scope=row>Ford Pantera L</th><td>15.8</td></tr>\n",
              "\t<tr><th scope=row>Ferrari Dino</th><td>19.7</td></tr>\n",
              "\t<tr><th scope=row>Maserati Bora</th><td>15.0</td></tr>\n",
              "\t<tr><th scope=row>Volvo 142E</th><td>21.4</td></tr>\n",
              "</tbody>\n",
              "</table>\n"
            ],
            "text/markdown": "\nA data.frame: 32 × 1\n\n| <!--/--> | mpg &lt;dbl&gt; |\n|---|---|\n| Mazda RX4 | 21.0 |\n| Mazda RX4 Wag | 21.0 |\n| Datsun 710 | 22.8 |\n| Hornet 4 Drive | 21.4 |\n| Hornet Sportabout | 18.7 |\n| Valiant | 18.1 |\n| Duster 360 | 14.3 |\n| Merc 240D | 24.4 |\n| Merc 230 | 22.8 |\n| Merc 280 | 19.2 |\n| Merc 280C | 17.8 |\n| Merc 450SE | 16.4 |\n| Merc 450SL | 17.3 |\n| Merc 450SLC | 15.2 |\n| Cadillac Fleetwood | 10.4 |\n| Lincoln Continental | 10.4 |\n| Chrysler Imperial | 14.7 |\n| Fiat 128 | 32.4 |\n| Honda Civic | 30.4 |\n| Toyota Corolla | 33.9 |\n| Toyota Corona | 21.5 |\n| Dodge Challenger | 15.5 |\n| AMC Javelin | 15.2 |\n| Camaro Z28 | 13.3 |\n| Pontiac Firebird | 19.2 |\n| Fiat X1-9 | 27.3 |\n| Porsche 914-2 | 26.0 |\n| Lotus Europa | 30.4 |\n| Ford Pantera L | 15.8 |\n| Ferrari Dino | 19.7 |\n| Maserati Bora | 15.0 |\n| Volvo 142E | 21.4 |\n\n",
            "text/latex": "A data.frame: 32 × 1\n\\begin{tabular}{r|l}\n  & mpg\\\\\n  & <dbl>\\\\\n\\hline\n\tMazda RX4 & 21.0\\\\\n\tMazda RX4 Wag & 21.0\\\\\n\tDatsun 710 & 22.8\\\\\n\tHornet 4 Drive & 21.4\\\\\n\tHornet Sportabout & 18.7\\\\\n\tValiant & 18.1\\\\\n\tDuster 360 & 14.3\\\\\n\tMerc 240D & 24.4\\\\\n\tMerc 230 & 22.8\\\\\n\tMerc 280 & 19.2\\\\\n\tMerc 280C & 17.8\\\\\n\tMerc 450SE & 16.4\\\\\n\tMerc 450SL & 17.3\\\\\n\tMerc 450SLC & 15.2\\\\\n\tCadillac Fleetwood & 10.4\\\\\n\tLincoln Continental & 10.4\\\\\n\tChrysler Imperial & 14.7\\\\\n\tFiat 128 & 32.4\\\\\n\tHonda Civic & 30.4\\\\\n\tToyota Corolla & 33.9\\\\\n\tToyota Corona & 21.5\\\\\n\tDodge Challenger & 15.5\\\\\n\tAMC Javelin & 15.2\\\\\n\tCamaro Z28 & 13.3\\\\\n\tPontiac Firebird & 19.2\\\\\n\tFiat X1-9 & 27.3\\\\\n\tPorsche 914-2 & 26.0\\\\\n\tLotus Europa & 30.4\\\\\n\tFord Pantera L & 15.8\\\\\n\tFerrari Dino & 19.7\\\\\n\tMaserati Bora & 15.0\\\\\n\tVolvo 142E & 21.4\\\\\n\\end{tabular}\n",
            "text/plain": [
              "                    mpg \n",
              "Mazda RX4           21.0\n",
              "Mazda RX4 Wag       21.0\n",
              "Datsun 710          22.8\n",
              "Hornet 4 Drive      21.4\n",
              "Hornet Sportabout   18.7\n",
              "Valiant             18.1\n",
              "Duster 360          14.3\n",
              "Merc 240D           24.4\n",
              "Merc 230            22.8\n",
              "Merc 280            19.2\n",
              "Merc 280C           17.8\n",
              "Merc 450SE          16.4\n",
              "Merc 450SL          17.3\n",
              "Merc 450SLC         15.2\n",
              "Cadillac Fleetwood  10.4\n",
              "Lincoln Continental 10.4\n",
              "Chrysler Imperial   14.7\n",
              "Fiat 128            32.4\n",
              "Honda Civic         30.4\n",
              "Toyota Corolla      33.9\n",
              "Toyota Corona       21.5\n",
              "Dodge Challenger    15.5\n",
              "AMC Javelin         15.2\n",
              "Camaro Z28          13.3\n",
              "Pontiac Firebird    19.2\n",
              "Fiat X1-9           27.3\n",
              "Porsche 914-2       26.0\n",
              "Lotus Europa        30.4\n",
              "Ford Pantera L      15.8\n",
              "Ferrari Dino        19.7\n",
              "Maserati Bora       15.0\n",
              "Volvo 142E          21.4"
            ]
          },
          "metadata": {}
        }
      ]
    },
    {
      "cell_type": "code",
      "source": [
        "mtcars[c(\"mpg\",\"cyl\",\"hp\")]"
      ],
      "metadata": {
        "colab": {
          "base_uri": "https://localhost:8080/",
          "height": 1000
        },
        "id": "GZwxc7sq0OvG",
        "outputId": "4ddf00de-24b8-4bdc-edc8-37ea90763f6a"
      },
      "execution_count": 100,
      "outputs": [
        {
          "output_type": "display_data",
          "data": {
            "text/html": [
              "<table class=\"dataframe\">\n",
              "<caption>A data.frame: 32 × 3</caption>\n",
              "<thead>\n",
              "\t<tr><th></th><th scope=col>mpg</th><th scope=col>cyl</th><th scope=col>hp</th></tr>\n",
              "\t<tr><th></th><th scope=col>&lt;dbl&gt;</th><th scope=col>&lt;dbl&gt;</th><th scope=col>&lt;dbl&gt;</th></tr>\n",
              "</thead>\n",
              "<tbody>\n",
              "\t<tr><th scope=row>Mazda RX4</th><td>21.0</td><td>6</td><td>110</td></tr>\n",
              "\t<tr><th scope=row>Mazda RX4 Wag</th><td>21.0</td><td>6</td><td>110</td></tr>\n",
              "\t<tr><th scope=row>Datsun 710</th><td>22.8</td><td>4</td><td> 93</td></tr>\n",
              "\t<tr><th scope=row>Hornet 4 Drive</th><td>21.4</td><td>6</td><td>110</td></tr>\n",
              "\t<tr><th scope=row>Hornet Sportabout</th><td>18.7</td><td>8</td><td>175</td></tr>\n",
              "\t<tr><th scope=row>Valiant</th><td>18.1</td><td>6</td><td>105</td></tr>\n",
              "\t<tr><th scope=row>Duster 360</th><td>14.3</td><td>8</td><td>245</td></tr>\n",
              "\t<tr><th scope=row>Merc 240D</th><td>24.4</td><td>4</td><td> 62</td></tr>\n",
              "\t<tr><th scope=row>Merc 230</th><td>22.8</td><td>4</td><td> 95</td></tr>\n",
              "\t<tr><th scope=row>Merc 280</th><td>19.2</td><td>6</td><td>123</td></tr>\n",
              "\t<tr><th scope=row>Merc 280C</th><td>17.8</td><td>6</td><td>123</td></tr>\n",
              "\t<tr><th scope=row>Merc 450SE</th><td>16.4</td><td>8</td><td>180</td></tr>\n",
              "\t<tr><th scope=row>Merc 450SL</th><td>17.3</td><td>8</td><td>180</td></tr>\n",
              "\t<tr><th scope=row>Merc 450SLC</th><td>15.2</td><td>8</td><td>180</td></tr>\n",
              "\t<tr><th scope=row>Cadillac Fleetwood</th><td>10.4</td><td>8</td><td>205</td></tr>\n",
              "\t<tr><th scope=row>Lincoln Continental</th><td>10.4</td><td>8</td><td>215</td></tr>\n",
              "\t<tr><th scope=row>Chrysler Imperial</th><td>14.7</td><td>8</td><td>230</td></tr>\n",
              "\t<tr><th scope=row>Fiat 128</th><td>32.4</td><td>4</td><td> 66</td></tr>\n",
              "\t<tr><th scope=row>Honda Civic</th><td>30.4</td><td>4</td><td> 52</td></tr>\n",
              "\t<tr><th scope=row>Toyota Corolla</th><td>33.9</td><td>4</td><td> 65</td></tr>\n",
              "\t<tr><th scope=row>Toyota Corona</th><td>21.5</td><td>4</td><td> 97</td></tr>\n",
              "\t<tr><th scope=row>Dodge Challenger</th><td>15.5</td><td>8</td><td>150</td></tr>\n",
              "\t<tr><th scope=row>AMC Javelin</th><td>15.2</td><td>8</td><td>150</td></tr>\n",
              "\t<tr><th scope=row>Camaro Z28</th><td>13.3</td><td>8</td><td>245</td></tr>\n",
              "\t<tr><th scope=row>Pontiac Firebird</th><td>19.2</td><td>8</td><td>175</td></tr>\n",
              "\t<tr><th scope=row>Fiat X1-9</th><td>27.3</td><td>4</td><td> 66</td></tr>\n",
              "\t<tr><th scope=row>Porsche 914-2</th><td>26.0</td><td>4</td><td> 91</td></tr>\n",
              "\t<tr><th scope=row>Lotus Europa</th><td>30.4</td><td>4</td><td>113</td></tr>\n",
              "\t<tr><th scope=row>Ford Pantera L</th><td>15.8</td><td>8</td><td>264</td></tr>\n",
              "\t<tr><th scope=row>Ferrari Dino</th><td>19.7</td><td>6</td><td>175</td></tr>\n",
              "\t<tr><th scope=row>Maserati Bora</th><td>15.0</td><td>8</td><td>335</td></tr>\n",
              "\t<tr><th scope=row>Volvo 142E</th><td>21.4</td><td>4</td><td>109</td></tr>\n",
              "</tbody>\n",
              "</table>\n"
            ],
            "text/markdown": "\nA data.frame: 32 × 3\n\n| <!--/--> | mpg &lt;dbl&gt; | cyl &lt;dbl&gt; | hp &lt;dbl&gt; |\n|---|---|---|---|\n| Mazda RX4 | 21.0 | 6 | 110 |\n| Mazda RX4 Wag | 21.0 | 6 | 110 |\n| Datsun 710 | 22.8 | 4 |  93 |\n| Hornet 4 Drive | 21.4 | 6 | 110 |\n| Hornet Sportabout | 18.7 | 8 | 175 |\n| Valiant | 18.1 | 6 | 105 |\n| Duster 360 | 14.3 | 8 | 245 |\n| Merc 240D | 24.4 | 4 |  62 |\n| Merc 230 | 22.8 | 4 |  95 |\n| Merc 280 | 19.2 | 6 | 123 |\n| Merc 280C | 17.8 | 6 | 123 |\n| Merc 450SE | 16.4 | 8 | 180 |\n| Merc 450SL | 17.3 | 8 | 180 |\n| Merc 450SLC | 15.2 | 8 | 180 |\n| Cadillac Fleetwood | 10.4 | 8 | 205 |\n| Lincoln Continental | 10.4 | 8 | 215 |\n| Chrysler Imperial | 14.7 | 8 | 230 |\n| Fiat 128 | 32.4 | 4 |  66 |\n| Honda Civic | 30.4 | 4 |  52 |\n| Toyota Corolla | 33.9 | 4 |  65 |\n| Toyota Corona | 21.5 | 4 |  97 |\n| Dodge Challenger | 15.5 | 8 | 150 |\n| AMC Javelin | 15.2 | 8 | 150 |\n| Camaro Z28 | 13.3 | 8 | 245 |\n| Pontiac Firebird | 19.2 | 8 | 175 |\n| Fiat X1-9 | 27.3 | 4 |  66 |\n| Porsche 914-2 | 26.0 | 4 |  91 |\n| Lotus Europa | 30.4 | 4 | 113 |\n| Ford Pantera L | 15.8 | 8 | 264 |\n| Ferrari Dino | 19.7 | 6 | 175 |\n| Maserati Bora | 15.0 | 8 | 335 |\n| Volvo 142E | 21.4 | 4 | 109 |\n\n",
            "text/latex": "A data.frame: 32 × 3\n\\begin{tabular}{r|lll}\n  & mpg & cyl & hp\\\\\n  & <dbl> & <dbl> & <dbl>\\\\\n\\hline\n\tMazda RX4 & 21.0 & 6 & 110\\\\\n\tMazda RX4 Wag & 21.0 & 6 & 110\\\\\n\tDatsun 710 & 22.8 & 4 &  93\\\\\n\tHornet 4 Drive & 21.4 & 6 & 110\\\\\n\tHornet Sportabout & 18.7 & 8 & 175\\\\\n\tValiant & 18.1 & 6 & 105\\\\\n\tDuster 360 & 14.3 & 8 & 245\\\\\n\tMerc 240D & 24.4 & 4 &  62\\\\\n\tMerc 230 & 22.8 & 4 &  95\\\\\n\tMerc 280 & 19.2 & 6 & 123\\\\\n\tMerc 280C & 17.8 & 6 & 123\\\\\n\tMerc 450SE & 16.4 & 8 & 180\\\\\n\tMerc 450SL & 17.3 & 8 & 180\\\\\n\tMerc 450SLC & 15.2 & 8 & 180\\\\\n\tCadillac Fleetwood & 10.4 & 8 & 205\\\\\n\tLincoln Continental & 10.4 & 8 & 215\\\\\n\tChrysler Imperial & 14.7 & 8 & 230\\\\\n\tFiat 128 & 32.4 & 4 &  66\\\\\n\tHonda Civic & 30.4 & 4 &  52\\\\\n\tToyota Corolla & 33.9 & 4 &  65\\\\\n\tToyota Corona & 21.5 & 4 &  97\\\\\n\tDodge Challenger & 15.5 & 8 & 150\\\\\n\tAMC Javelin & 15.2 & 8 & 150\\\\\n\tCamaro Z28 & 13.3 & 8 & 245\\\\\n\tPontiac Firebird & 19.2 & 8 & 175\\\\\n\tFiat X1-9 & 27.3 & 4 &  66\\\\\n\tPorsche 914-2 & 26.0 & 4 &  91\\\\\n\tLotus Europa & 30.4 & 4 & 113\\\\\n\tFord Pantera L & 15.8 & 8 & 264\\\\\n\tFerrari Dino & 19.7 & 6 & 175\\\\\n\tMaserati Bora & 15.0 & 8 & 335\\\\\n\tVolvo 142E & 21.4 & 4 & 109\\\\\n\\end{tabular}\n",
            "text/plain": [
              "                    mpg  cyl hp \n",
              "Mazda RX4           21.0 6   110\n",
              "Mazda RX4 Wag       21.0 6   110\n",
              "Datsun 710          22.8 4    93\n",
              "Hornet 4 Drive      21.4 6   110\n",
              "Hornet Sportabout   18.7 8   175\n",
              "Valiant             18.1 6   105\n",
              "Duster 360          14.3 8   245\n",
              "Merc 240D           24.4 4    62\n",
              "Merc 230            22.8 4    95\n",
              "Merc 280            19.2 6   123\n",
              "Merc 280C           17.8 6   123\n",
              "Merc 450SE          16.4 8   180\n",
              "Merc 450SL          17.3 8   180\n",
              "Merc 450SLC         15.2 8   180\n",
              "Cadillac Fleetwood  10.4 8   205\n",
              "Lincoln Continental 10.4 8   215\n",
              "Chrysler Imperial   14.7 8   230\n",
              "Fiat 128            32.4 4    66\n",
              "Honda Civic         30.4 4    52\n",
              "Toyota Corolla      33.9 4    65\n",
              "Toyota Corona       21.5 4    97\n",
              "Dodge Challenger    15.5 8   150\n",
              "AMC Javelin         15.2 8   150\n",
              "Camaro Z28          13.3 8   245\n",
              "Pontiac Firebird    19.2 8   175\n",
              "Fiat X1-9           27.3 4    66\n",
              "Porsche 914-2       26.0 4    91\n",
              "Lotus Europa        30.4 4   113\n",
              "Ford Pantera L      15.8 8   264\n",
              "Ferrari Dino        19.7 6   175\n",
              "Maserati Bora       15.0 8   335\n",
              "Volvo 142E          21.4 4   109"
            ]
          },
          "metadata": {}
        }
      ]
    },
    {
      "cell_type": "code",
      "source": [
        "mtcars$wt"
      ],
      "metadata": {
        "colab": {
          "base_uri": "https://localhost:8080/",
          "height": 52
        },
        "id": "kdGtf3OS0p0g",
        "outputId": "3b567edb-965a-4d0a-a611-2871489b1b10"
      },
      "execution_count": 101,
      "outputs": [
        {
          "output_type": "display_data",
          "data": {
            "text/html": [
              "<style>\n",
              ".list-inline {list-style: none; margin:0; padding: 0}\n",
              ".list-inline>li {display: inline-block}\n",
              ".list-inline>li:not(:last-child)::after {content: \"\\00b7\"; padding: 0 .5ex}\n",
              "</style>\n",
              "<ol class=list-inline><li>2.62</li><li>2.875</li><li>2.32</li><li>3.215</li><li>3.44</li><li>3.46</li><li>3.57</li><li>3.19</li><li>3.15</li><li>3.44</li><li>3.44</li><li>4.07</li><li>3.73</li><li>3.78</li><li>5.25</li><li>5.424</li><li>5.345</li><li>2.2</li><li>1.615</li><li>1.835</li><li>2.465</li><li>3.52</li><li>3.435</li><li>3.84</li><li>3.845</li><li>1.935</li><li>2.14</li><li>1.513</li><li>3.17</li><li>2.77</li><li>3.57</li><li>2.78</li></ol>\n"
            ],
            "text/markdown": "1. 2.62\n2. 2.875\n3. 2.32\n4. 3.215\n5. 3.44\n6. 3.46\n7. 3.57\n8. 3.19\n9. 3.15\n10. 3.44\n11. 3.44\n12. 4.07\n13. 3.73\n14. 3.78\n15. 5.25\n16. 5.424\n17. 5.345\n18. 2.2\n19. 1.615\n20. 1.835\n21. 2.465\n22. 3.52\n23. 3.435\n24. 3.84\n25. 3.845\n26. 1.935\n27. 2.14\n28. 1.513\n29. 3.17\n30. 2.77\n31. 3.57\n32. 2.78\n\n\n",
            "text/latex": "\\begin{enumerate*}\n\\item 2.62\n\\item 2.875\n\\item 2.32\n\\item 3.215\n\\item 3.44\n\\item 3.46\n\\item 3.57\n\\item 3.19\n\\item 3.15\n\\item 3.44\n\\item 3.44\n\\item 4.07\n\\item 3.73\n\\item 3.78\n\\item 5.25\n\\item 5.424\n\\item 5.345\n\\item 2.2\n\\item 1.615\n\\item 1.835\n\\item 2.465\n\\item 3.52\n\\item 3.435\n\\item 3.84\n\\item 3.845\n\\item 1.935\n\\item 2.14\n\\item 1.513\n\\item 3.17\n\\item 2.77\n\\item 3.57\n\\item 2.78\n\\end{enumerate*}\n",
            "text/plain": [
              " [1] 2.620 2.875 2.320 3.215 3.440 3.460 3.570 3.190 3.150 3.440 3.440 4.070\n",
              "[13] 3.730 3.780 5.250 5.424 5.345 2.200 1.615 1.835 2.465 3.520 3.435 3.840\n",
              "[25] 3.845 1.935 2.140 1.513 3.170 2.770 3.570 2.780"
            ]
          },
          "metadata": {}
        }
      ]
    },
    {
      "cell_type": "code",
      "source": [],
      "metadata": {
        "id": "psnGnXQZ0ytc"
      },
      "execution_count": null,
      "outputs": []
    }
  ]
}